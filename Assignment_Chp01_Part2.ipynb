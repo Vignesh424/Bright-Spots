{
  "nbformat": 4,
  "nbformat_minor": 0,
  "metadata": {
    "colab": {
      "name": "Assignment_Chp01_Part2.ipynb",
      "provenance": [],
      "collapsed_sections": [],
      "authorship_tag": "ABX9TyOcyL5I1O7FX6mlJPsMqWcs",
      "include_colab_link": true
    },
    "kernelspec": {
      "name": "python3",
      "display_name": "Python 3"
    },
    "language_info": {
      "name": "python"
    }
  },
  "cells": [
    {
      "cell_type": "markdown",
      "metadata": {
        "id": "view-in-github",
        "colab_type": "text"
      },
      "source": [
        "<a href=\"https://colab.research.google.com/github/Vignesh424/Bright-Spots/blob/main/Assignment_Chp01_Part2.ipynb\" target=\"_parent\"><img src=\"https://colab.research.google.com/assets/colab-badge.svg\" alt=\"Open In Colab\"/></a>"
      ]
    },
    {
      "cell_type": "code",
      "metadata": {
        "colab": {
          "base_uri": "https://localhost:8080/"
        },
        "id": "h4Z8FhkqLkXE",
        "outputId": "3d76a825-b1f0-4680-a515-e7f21387f566"
      },
      "source": [
        "import nltk\n",
        "nltk.download(\"all\")"
      ],
      "execution_count": null,
      "outputs": [
        {
          "output_type": "stream",
          "text": [
            "[nltk_data] Downloading collection 'all'\n",
            "[nltk_data]    | \n",
            "[nltk_data]    | Downloading package abc to /root/nltk_data...\n",
            "[nltk_data]    |   Package abc is already up-to-date!\n",
            "[nltk_data]    | Downloading package alpino to /root/nltk_data...\n",
            "[nltk_data]    |   Package alpino is already up-to-date!\n",
            "[nltk_data]    | Downloading package biocreative_ppi to\n",
            "[nltk_data]    |     /root/nltk_data...\n",
            "[nltk_data]    |   Package biocreative_ppi is already up-to-date!\n",
            "[nltk_data]    | Downloading package brown to /root/nltk_data...\n",
            "[nltk_data]    |   Package brown is already up-to-date!\n",
            "[nltk_data]    | Downloading package brown_tei to /root/nltk_data...\n",
            "[nltk_data]    |   Package brown_tei is already up-to-date!\n",
            "[nltk_data]    | Downloading package cess_cat to /root/nltk_data...\n",
            "[nltk_data]    |   Package cess_cat is already up-to-date!\n",
            "[nltk_data]    | Downloading package cess_esp to /root/nltk_data...\n",
            "[nltk_data]    |   Package cess_esp is already up-to-date!\n",
            "[nltk_data]    | Downloading package chat80 to /root/nltk_data...\n",
            "[nltk_data]    |   Package chat80 is already up-to-date!\n",
            "[nltk_data]    | Downloading package city_database to\n",
            "[nltk_data]    |     /root/nltk_data...\n",
            "[nltk_data]    |   Package city_database is already up-to-date!\n",
            "[nltk_data]    | Downloading package cmudict to /root/nltk_data...\n",
            "[nltk_data]    |   Package cmudict is already up-to-date!\n",
            "[nltk_data]    | Downloading package comparative_sentences to\n",
            "[nltk_data]    |     /root/nltk_data...\n",
            "[nltk_data]    |   Package comparative_sentences is already up-to-\n",
            "[nltk_data]    |       date!\n",
            "[nltk_data]    | Downloading package comtrans to /root/nltk_data...\n",
            "[nltk_data]    |   Package comtrans is already up-to-date!\n",
            "[nltk_data]    | Downloading package conll2000 to /root/nltk_data...\n",
            "[nltk_data]    |   Package conll2000 is already up-to-date!\n",
            "[nltk_data]    | Downloading package conll2002 to /root/nltk_data...\n",
            "[nltk_data]    |   Package conll2002 is already up-to-date!\n",
            "[nltk_data]    | Downloading package conll2007 to /root/nltk_data...\n",
            "[nltk_data]    |   Package conll2007 is already up-to-date!\n",
            "[nltk_data]    | Downloading package crubadan to /root/nltk_data...\n",
            "[nltk_data]    |   Package crubadan is already up-to-date!\n",
            "[nltk_data]    | Downloading package dependency_treebank to\n",
            "[nltk_data]    |     /root/nltk_data...\n",
            "[nltk_data]    |   Package dependency_treebank is already up-to-date!\n",
            "[nltk_data]    | Downloading package dolch to /root/nltk_data...\n",
            "[nltk_data]    |   Package dolch is already up-to-date!\n",
            "[nltk_data]    | Downloading package europarl_raw to\n",
            "[nltk_data]    |     /root/nltk_data...\n",
            "[nltk_data]    |   Package europarl_raw is already up-to-date!\n",
            "[nltk_data]    | Downloading package floresta to /root/nltk_data...\n",
            "[nltk_data]    |   Package floresta is already up-to-date!\n",
            "[nltk_data]    | Downloading package framenet_v15 to\n",
            "[nltk_data]    |     /root/nltk_data...\n",
            "[nltk_data]    |   Package framenet_v15 is already up-to-date!\n",
            "[nltk_data]    | Downloading package framenet_v17 to\n",
            "[nltk_data]    |     /root/nltk_data...\n",
            "[nltk_data]    |   Package framenet_v17 is already up-to-date!\n",
            "[nltk_data]    | Downloading package gazetteers to /root/nltk_data...\n",
            "[nltk_data]    |   Package gazetteers is already up-to-date!\n",
            "[nltk_data]    | Downloading package genesis to /root/nltk_data...\n",
            "[nltk_data]    |   Package genesis is already up-to-date!\n",
            "[nltk_data]    | Downloading package gutenberg to /root/nltk_data...\n",
            "[nltk_data]    |   Package gutenberg is already up-to-date!\n",
            "[nltk_data]    | Downloading package ieer to /root/nltk_data...\n",
            "[nltk_data]    |   Package ieer is already up-to-date!\n",
            "[nltk_data]    | Downloading package inaugural to /root/nltk_data...\n",
            "[nltk_data]    |   Package inaugural is already up-to-date!\n",
            "[nltk_data]    | Downloading package indian to /root/nltk_data...\n",
            "[nltk_data]    |   Package indian is already up-to-date!\n",
            "[nltk_data]    | Downloading package jeita to /root/nltk_data...\n",
            "[nltk_data]    |   Package jeita is already up-to-date!\n",
            "[nltk_data]    | Downloading package kimmo to /root/nltk_data...\n",
            "[nltk_data]    |   Package kimmo is already up-to-date!\n",
            "[nltk_data]    | Downloading package knbc to /root/nltk_data...\n",
            "[nltk_data]    |   Package knbc is already up-to-date!\n",
            "[nltk_data]    | Downloading package lin_thesaurus to\n",
            "[nltk_data]    |     /root/nltk_data...\n",
            "[nltk_data]    |   Package lin_thesaurus is already up-to-date!\n",
            "[nltk_data]    | Downloading package mac_morpho to /root/nltk_data...\n",
            "[nltk_data]    |   Package mac_morpho is already up-to-date!\n",
            "[nltk_data]    | Downloading package machado to /root/nltk_data...\n",
            "[nltk_data]    |   Package machado is already up-to-date!\n",
            "[nltk_data]    | Downloading package masc_tagged to /root/nltk_data...\n",
            "[nltk_data]    |   Package masc_tagged is already up-to-date!\n",
            "[nltk_data]    | Downloading package moses_sample to\n",
            "[nltk_data]    |     /root/nltk_data...\n",
            "[nltk_data]    |   Package moses_sample is already up-to-date!\n",
            "[nltk_data]    | Downloading package movie_reviews to\n",
            "[nltk_data]    |     /root/nltk_data...\n",
            "[nltk_data]    |   Package movie_reviews is already up-to-date!\n",
            "[nltk_data]    | Downloading package names to /root/nltk_data...\n",
            "[nltk_data]    |   Package names is already up-to-date!\n",
            "[nltk_data]    | Downloading package nombank.1.0 to /root/nltk_data...\n",
            "[nltk_data]    |   Package nombank.1.0 is already up-to-date!\n",
            "[nltk_data]    | Downloading package nps_chat to /root/nltk_data...\n",
            "[nltk_data]    |   Package nps_chat is already up-to-date!\n",
            "[nltk_data]    | Downloading package omw to /root/nltk_data...\n",
            "[nltk_data]    |   Package omw is already up-to-date!\n",
            "[nltk_data]    | Downloading package opinion_lexicon to\n",
            "[nltk_data]    |     /root/nltk_data...\n",
            "[nltk_data]    |   Package opinion_lexicon is already up-to-date!\n",
            "[nltk_data]    | Downloading package paradigms to /root/nltk_data...\n",
            "[nltk_data]    |   Package paradigms is already up-to-date!\n",
            "[nltk_data]    | Downloading package pil to /root/nltk_data...\n",
            "[nltk_data]    |   Package pil is already up-to-date!\n",
            "[nltk_data]    | Downloading package pl196x to /root/nltk_data...\n",
            "[nltk_data]    |   Package pl196x is already up-to-date!\n",
            "[nltk_data]    | Downloading package ppattach to /root/nltk_data...\n",
            "[nltk_data]    |   Package ppattach is already up-to-date!\n",
            "[nltk_data]    | Downloading package problem_reports to\n",
            "[nltk_data]    |     /root/nltk_data...\n",
            "[nltk_data]    |   Package problem_reports is already up-to-date!\n",
            "[nltk_data]    | Downloading package propbank to /root/nltk_data...\n",
            "[nltk_data]    |   Package propbank is already up-to-date!\n",
            "[nltk_data]    | Downloading package ptb to /root/nltk_data...\n",
            "[nltk_data]    |   Package ptb is already up-to-date!\n",
            "[nltk_data]    | Downloading package product_reviews_1 to\n",
            "[nltk_data]    |     /root/nltk_data...\n",
            "[nltk_data]    |   Package product_reviews_1 is already up-to-date!\n",
            "[nltk_data]    | Downloading package product_reviews_2 to\n",
            "[nltk_data]    |     /root/nltk_data...\n",
            "[nltk_data]    |   Package product_reviews_2 is already up-to-date!\n",
            "[nltk_data]    | Downloading package pros_cons to /root/nltk_data...\n",
            "[nltk_data]    |   Package pros_cons is already up-to-date!\n",
            "[nltk_data]    | Downloading package qc to /root/nltk_data...\n",
            "[nltk_data]    |   Package qc is already up-to-date!\n",
            "[nltk_data]    | Downloading package reuters to /root/nltk_data...\n",
            "[nltk_data]    |   Package reuters is already up-to-date!\n",
            "[nltk_data]    | Downloading package rte to /root/nltk_data...\n",
            "[nltk_data]    |   Package rte is already up-to-date!\n",
            "[nltk_data]    | Downloading package semcor to /root/nltk_data...\n",
            "[nltk_data]    |   Package semcor is already up-to-date!\n",
            "[nltk_data]    | Downloading package senseval to /root/nltk_data...\n",
            "[nltk_data]    |   Package senseval is already up-to-date!\n",
            "[nltk_data]    | Downloading package sentiwordnet to\n",
            "[nltk_data]    |     /root/nltk_data...\n",
            "[nltk_data]    |   Package sentiwordnet is already up-to-date!\n",
            "[nltk_data]    | Downloading package sentence_polarity to\n",
            "[nltk_data]    |     /root/nltk_data...\n",
            "[nltk_data]    |   Package sentence_polarity is already up-to-date!\n",
            "[nltk_data]    | Downloading package shakespeare to /root/nltk_data...\n",
            "[nltk_data]    |   Package shakespeare is already up-to-date!\n",
            "[nltk_data]    | Downloading package sinica_treebank to\n",
            "[nltk_data]    |     /root/nltk_data...\n",
            "[nltk_data]    |   Package sinica_treebank is already up-to-date!\n",
            "[nltk_data]    | Downloading package smultron to /root/nltk_data...\n",
            "[nltk_data]    |   Package smultron is already up-to-date!\n",
            "[nltk_data]    | Downloading package state_union to /root/nltk_data...\n",
            "[nltk_data]    |   Package state_union is already up-to-date!\n",
            "[nltk_data]    | Downloading package stopwords to /root/nltk_data...\n",
            "[nltk_data]    |   Package stopwords is already up-to-date!\n",
            "[nltk_data]    | Downloading package subjectivity to\n",
            "[nltk_data]    |     /root/nltk_data...\n",
            "[nltk_data]    |   Package subjectivity is already up-to-date!\n",
            "[nltk_data]    | Downloading package swadesh to /root/nltk_data...\n",
            "[nltk_data]    |   Package swadesh is already up-to-date!\n",
            "[nltk_data]    | Downloading package switchboard to /root/nltk_data...\n",
            "[nltk_data]    |   Package switchboard is already up-to-date!\n",
            "[nltk_data]    | Downloading package timit to /root/nltk_data...\n",
            "[nltk_data]    |   Package timit is already up-to-date!\n",
            "[nltk_data]    | Downloading package toolbox to /root/nltk_data...\n",
            "[nltk_data]    |   Package toolbox is already up-to-date!\n",
            "[nltk_data]    | Downloading package treebank to /root/nltk_data...\n",
            "[nltk_data]    |   Package treebank is already up-to-date!\n",
            "[nltk_data]    | Downloading package twitter_samples to\n",
            "[nltk_data]    |     /root/nltk_data...\n",
            "[nltk_data]    |   Package twitter_samples is already up-to-date!\n",
            "[nltk_data]    | Downloading package udhr to /root/nltk_data...\n",
            "[nltk_data]    |   Package udhr is already up-to-date!\n",
            "[nltk_data]    | Downloading package udhr2 to /root/nltk_data...\n",
            "[nltk_data]    |   Package udhr2 is already up-to-date!\n",
            "[nltk_data]    | Downloading package unicode_samples to\n",
            "[nltk_data]    |     /root/nltk_data...\n",
            "[nltk_data]    |   Package unicode_samples is already up-to-date!\n",
            "[nltk_data]    | Downloading package universal_treebanks_v20 to\n",
            "[nltk_data]    |     /root/nltk_data...\n",
            "[nltk_data]    |   Package universal_treebanks_v20 is already up-to-\n",
            "[nltk_data]    |       date!\n",
            "[nltk_data]    | Downloading package verbnet to /root/nltk_data...\n",
            "[nltk_data]    |   Package verbnet is already up-to-date!\n",
            "[nltk_data]    | Downloading package verbnet3 to /root/nltk_data...\n",
            "[nltk_data]    |   Package verbnet3 is already up-to-date!\n",
            "[nltk_data]    | Downloading package webtext to /root/nltk_data...\n",
            "[nltk_data]    |   Package webtext is already up-to-date!\n",
            "[nltk_data]    | Downloading package wordnet to /root/nltk_data...\n",
            "[nltk_data]    |   Package wordnet is already up-to-date!\n",
            "[nltk_data]    | Downloading package wordnet_ic to /root/nltk_data...\n",
            "[nltk_data]    |   Package wordnet_ic is already up-to-date!\n",
            "[nltk_data]    | Downloading package words to /root/nltk_data...\n",
            "[nltk_data]    |   Package words is already up-to-date!\n",
            "[nltk_data]    | Downloading package ycoe to /root/nltk_data...\n",
            "[nltk_data]    |   Package ycoe is already up-to-date!\n",
            "[nltk_data]    | Downloading package rslp to /root/nltk_data...\n",
            "[nltk_data]    |   Package rslp is already up-to-date!\n",
            "[nltk_data]    | Downloading package maxent_treebank_pos_tagger to\n",
            "[nltk_data]    |     /root/nltk_data...\n",
            "[nltk_data]    |   Package maxent_treebank_pos_tagger is already up-\n",
            "[nltk_data]    |       to-date!\n",
            "[nltk_data]    | Downloading package universal_tagset to\n",
            "[nltk_data]    |     /root/nltk_data...\n",
            "[nltk_data]    |   Package universal_tagset is already up-to-date!\n",
            "[nltk_data]    | Downloading package maxent_ne_chunker to\n",
            "[nltk_data]    |     /root/nltk_data...\n",
            "[nltk_data]    |   Package maxent_ne_chunker is already up-to-date!\n",
            "[nltk_data]    | Downloading package punkt to /root/nltk_data...\n",
            "[nltk_data]    |   Package punkt is already up-to-date!\n",
            "[nltk_data]    | Downloading package book_grammars to\n",
            "[nltk_data]    |     /root/nltk_data...\n",
            "[nltk_data]    |   Package book_grammars is already up-to-date!\n",
            "[nltk_data]    | Downloading package sample_grammars to\n",
            "[nltk_data]    |     /root/nltk_data...\n",
            "[nltk_data]    |   Package sample_grammars is already up-to-date!\n",
            "[nltk_data]    | Downloading package spanish_grammars to\n",
            "[nltk_data]    |     /root/nltk_data...\n",
            "[nltk_data]    |   Package spanish_grammars is already up-to-date!\n",
            "[nltk_data]    | Downloading package basque_grammars to\n",
            "[nltk_data]    |     /root/nltk_data...\n",
            "[nltk_data]    |   Package basque_grammars is already up-to-date!\n",
            "[nltk_data]    | Downloading package large_grammars to\n",
            "[nltk_data]    |     /root/nltk_data...\n",
            "[nltk_data]    |   Package large_grammars is already up-to-date!\n",
            "[nltk_data]    | Downloading package tagsets to /root/nltk_data...\n",
            "[nltk_data]    |   Package tagsets is already up-to-date!\n",
            "[nltk_data]    | Downloading package snowball_data to\n",
            "[nltk_data]    |     /root/nltk_data...\n",
            "[nltk_data]    |   Package snowball_data is already up-to-date!\n",
            "[nltk_data]    | Downloading package bllip_wsj_no_aux to\n",
            "[nltk_data]    |     /root/nltk_data...\n",
            "[nltk_data]    |   Package bllip_wsj_no_aux is already up-to-date!\n",
            "[nltk_data]    | Downloading package word2vec_sample to\n",
            "[nltk_data]    |     /root/nltk_data...\n",
            "[nltk_data]    |   Package word2vec_sample is already up-to-date!\n",
            "[nltk_data]    | Downloading package panlex_swadesh to\n",
            "[nltk_data]    |     /root/nltk_data...\n",
            "[nltk_data]    |   Package panlex_swadesh is already up-to-date!\n",
            "[nltk_data]    | Downloading package mte_teip5 to /root/nltk_data...\n",
            "[nltk_data]    |   Package mte_teip5 is already up-to-date!\n",
            "[nltk_data]    | Downloading package averaged_perceptron_tagger to\n",
            "[nltk_data]    |     /root/nltk_data...\n",
            "[nltk_data]    |   Package averaged_perceptron_tagger is already up-\n",
            "[nltk_data]    |       to-date!\n",
            "[nltk_data]    | Downloading package averaged_perceptron_tagger_ru to\n",
            "[nltk_data]    |     /root/nltk_data...\n",
            "[nltk_data]    |   Package averaged_perceptron_tagger_ru is already\n",
            "[nltk_data]    |       up-to-date!\n",
            "[nltk_data]    | Downloading package perluniprops to\n",
            "[nltk_data]    |     /root/nltk_data...\n",
            "[nltk_data]    |   Package perluniprops is already up-to-date!\n",
            "[nltk_data]    | Downloading package nonbreaking_prefixes to\n",
            "[nltk_data]    |     /root/nltk_data...\n",
            "[nltk_data]    |   Package nonbreaking_prefixes is already up-to-date!\n",
            "[nltk_data]    | Downloading package vader_lexicon to\n",
            "[nltk_data]    |     /root/nltk_data...\n",
            "[nltk_data]    |   Package vader_lexicon is already up-to-date!\n",
            "[nltk_data]    | Downloading package porter_test to /root/nltk_data...\n",
            "[nltk_data]    |   Package porter_test is already up-to-date!\n",
            "[nltk_data]    | Downloading package wmt15_eval to /root/nltk_data...\n",
            "[nltk_data]    |   Package wmt15_eval is already up-to-date!\n",
            "[nltk_data]    | Downloading package mwa_ppdb to /root/nltk_data...\n",
            "[nltk_data]    |   Package mwa_ppdb is already up-to-date!\n",
            "[nltk_data]    | \n",
            "[nltk_data]  Done downloading collection all\n"
          ],
          "name": "stdout"
        },
        {
          "output_type": "execute_result",
          "data": {
            "text/plain": [
              "True"
            ]
          },
          "metadata": {},
          "execution_count": 99
        }
      ]
    },
    {
      "cell_type": "markdown",
      "metadata": {
        "id": "1J0q7988Lqjg"
      },
      "source": [
        "**1. Create a variable phrase containing a list of words. Review the operations described in the previous chapter, including addition, multiplication, indexing, slicing, and sorting.**"
      ]
    },
    {
      "cell_type": "code",
      "metadata": {
        "id": "ms0V_LKKLk9P"
      },
      "source": [
        "phrase=[\"foster\", \"sensei\", \"beat\", \"crime\", \"figure\", \"tuna\"]"
      ],
      "execution_count": null,
      "outputs": []
    },
    {
      "cell_type": "code",
      "metadata": {
        "colab": {
          "base_uri": "https://localhost:8080/"
        },
        "id": "qlEfUNdZMZ4Q",
        "outputId": "429b1386-2583-4515-aeaa-539e7ab0e808"
      },
      "source": [
        "#addition\n",
        "print(phrase+phrase)"
      ],
      "execution_count": null,
      "outputs": [
        {
          "output_type": "stream",
          "text": [
            "['foster', 'sensei', 'beat', 'crime', 'figure', 'tuna', 'foster', 'sensei', 'beat', 'crime', 'figure', 'tuna']\n"
          ],
          "name": "stdout"
        }
      ]
    },
    {
      "cell_type": "code",
      "metadata": {
        "colab": {
          "base_uri": "https://localhost:8080/"
        },
        "id": "O9BdfqRqM_Br",
        "outputId": "a6e5f031-04ad-434a-c84d-3b26dfdd32d9"
      },
      "source": [
        "#indexing\n",
        "print(phrase[-2])"
      ],
      "execution_count": null,
      "outputs": [
        {
          "output_type": "stream",
          "text": [
            "figure\n"
          ],
          "name": "stdout"
        }
      ]
    },
    {
      "cell_type": "code",
      "metadata": {
        "colab": {
          "base_uri": "https://localhost:8080/"
        },
        "id": "AM0tOchyNEme",
        "outputId": "7edcef3b-cad1-49be-c152-9575de8fbdcf"
      },
      "source": [
        "#slicing\n",
        "print(phrase[2:])"
      ],
      "execution_count": null,
      "outputs": [
        {
          "output_type": "stream",
          "text": [
            "['beat', 'crime', 'figure', 'tuna']\n"
          ],
          "name": "stdout"
        }
      ]
    },
    {
      "cell_type": "code",
      "metadata": {
        "colab": {
          "base_uri": "https://localhost:8080/"
        },
        "id": "rbmc0RqhNPCQ",
        "outputId": "e8bfb6fc-3885-49c2-bc90-b96bb0fa1f92"
      },
      "source": [
        "#multiplication\n",
        "print(phrase*3, end=\" \")"
      ],
      "execution_count": null,
      "outputs": [
        {
          "output_type": "stream",
          "text": [
            "['foster', 'sensei', 'beat', 'crime', 'figure', 'tuna', 'foster', 'sensei', 'beat', 'crime', 'figure', 'tuna', 'foster', 'sensei', 'beat', 'crime', 'figure', 'tuna'] "
          ],
          "name": "stdout"
        }
      ]
    },
    {
      "cell_type": "markdown",
      "metadata": {
        "id": "YKn86MXJNeLk"
      },
      "source": [
        "**2.Use the corpus module to explore austen-persuasion.txt. How many word tokens does this book have? How many word types?**"
      ]
    },
    {
      "cell_type": "code",
      "metadata": {
        "colab": {
          "base_uri": "https://localhost:8080/"
        },
        "id": "dFZ1QPLQNV-i",
        "outputId": "c9455ba3-f671-44bc-fc11-1e6de62f2237"
      },
      "source": [
        "import nltk\n",
        "persuasion = nltk.corpus.gutenberg.words('austen-persuasion.txt')\n",
        "print(\"Length:\",(len(persuasion)))\n",
        "print()\n",
        "print(\"Length Word Types:\",(len(set(persuasion))))"
      ],
      "execution_count": null,
      "outputs": [
        {
          "output_type": "stream",
          "text": [
            "Length: 98171\n",
            "\n",
            "Length Word Types: 6132\n"
          ],
          "name": "stdout"
        }
      ]
    },
    {
      "cell_type": "markdown",
      "metadata": {
        "id": "TwI4uf5COKxD"
      },
      "source": [
        "**3.Use the Brown corpus reader nltk.corpus.brown.words() or the Web text corpus reader nltk.corpus.webtext.words() to access some sample text in two different genres.**"
      ]
    },
    {
      "cell_type": "code",
      "metadata": {
        "colab": {
          "base_uri": "https://localhost:8080/"
        },
        "id": "BVbGnECDN134",
        "outputId": "3d5b3965-5e7b-4000-c156-4a5ac36a9219"
      },
      "source": [
        "nltk.corpus.brown.words() "
      ],
      "execution_count": null,
      "outputs": [
        {
          "output_type": "execute_result",
          "data": {
            "text/plain": [
              "['The', 'Fulton', 'County', 'Grand', 'Jury', 'said', ...]"
            ]
          },
          "metadata": {},
          "execution_count": 106
        }
      ]
    },
    {
      "cell_type": "code",
      "metadata": {
        "colab": {
          "base_uri": "https://localhost:8080/"
        },
        "id": "GlqIN-uOOm-z",
        "outputId": "1cfe6fbe-2798-4d88-c562-dcef364497b2"
      },
      "source": [
        "from nltk.corpus import brown\n",
        "brown.words(categories=['religion', 'lore'])"
      ],
      "execution_count": null,
      "outputs": [
        {
          "output_type": "execute_result",
          "data": {
            "text/plain": [
              "['As', 'a', 'result', ',', 'although', 'we', 'still', ...]"
            ]
          },
          "metadata": {},
          "execution_count": 107
        }
      ]
    },
    {
      "cell_type": "markdown",
      "metadata": {
        "id": "qGYV0a2SPCna"
      },
      "source": [
        "**4.Read in the texts of the State of the Union addresses, using the state_union corpus reader. Count occurrences of men, women, and people in each document. What has happened to the usage of these words over time?**"
      ]
    },
    {
      "cell_type": "code",
      "metadata": {
        "colab": {
          "base_uri": "https://localhost:8080/",
          "height": 295
        },
        "id": "jrRLCCprO5Tj",
        "outputId": "1f6711a0-b3c3-46b4-b9d5-3989afd4269c"
      },
      "source": [
        "from nltk.corpus import inaugural\n",
        "cfd = nltk.ConditionalFreqDist((target, fileid[:4])\n",
        "for fileid in inaugural.fileids()\n",
        "for w in inaugural.words(fileid)\n",
        "for target in ['men', 'women', 'people']\n",
        "if w.lower().startswith(target))\n",
        "cfd.plot()"
      ],
      "execution_count": null,
      "outputs": [
        {
          "output_type": "display_data",
          "data": {
            "image/png": "[encoded data removed]",
            "text/plain": [
              "<Figure size 432x288 with 1 Axes>"
            ]
          },
          "metadata": {
            "needs_background": "light"
          }
        }
      ]
    },
    {
      "cell_type": "markdown",
      "metadata": {
        "id": "BBkCAbSBPxYI"
      },
      "source": [
        "**5.Investigate the holonym-meronym relations for some nouns. Remember that there are three kinds of holonym-meronym relation, so you need to use: member_meronyms(), part_meronyms(), substance_meronyms(), member_holonyms(), part_holonyms(), and substance_holonyms().**"
      ]
    },
    {
      "cell_type": "code",
      "metadata": {
        "id": "jbn9q1dWPehs"
      },
      "source": [
        "from nltk.corpus import wordnet as wn"
      ],
      "execution_count": null,
      "outputs": []
    },
    {
      "cell_type": "code",
      "metadata": {
        "colab": {
          "base_uri": "https://localhost:8080/"
        },
        "id": "6SscZ1p6Vly1",
        "outputId": "ea82a69a-4319-4f3c-9786-263cb73df031"
      },
      "source": [
        "\n",
        "from nltk.corpus import wordnet as wn\n",
        "def relations(noun):\n",
        "    noun_synset = wn.synset(noun)\n",
        "    print ('Member Meronyms:\\n ')\n",
        "    print (noun_synset.member_meronyms())\n",
        "    print ('\\nPart Meronyms:\\n')\n",
        "    print (noun_synset.part_meronyms())\n",
        "    print ('\\nSubstance Meronyms:\\n')\n",
        "    print (noun_synset.substance_meronyms())\n",
        "    print ('\\nMember Holonyms:\\n')\n",
        "    print (noun_synset.member_holonyms())\n",
        "    print ('\\nPart Holonyms:\\n')\n",
        "    print (noun_synset.part_holonyms())\n",
        "    print ('\\nSubstance Holonyms:\\n')\n",
        "    print (noun_synset.substance_holonyms())\n",
        "relations('tree.n.01')"
      ],
      "execution_count": null,
      "outputs": [
        {
          "output_type": "stream",
          "text": [
            "Member Meronyms:\n",
            " \n",
            "[]\n",
            "\n",
            "Part Meronyms:\n",
            "\n",
            "[Synset('burl.n.02'), Synset('crown.n.07'), Synset('limb.n.02'), Synset('stump.n.01'), Synset('trunk.n.01')]\n",
            "\n",
            "Substance Meronyms:\n",
            "\n",
            "[Synset('heartwood.n.01'), Synset('sapwood.n.01')]\n",
            "\n",
            "Member Holonyms:\n",
            "\n",
            "[Synset('forest.n.01')]\n",
            "\n",
            "Part Holonyms:\n",
            "\n",
            "[]\n",
            "\n",
            "Substance Holonyms:\n",
            "\n",
            "[]\n"
          ],
          "name": "stdout"
        }
      ]
    },
    {
      "cell_type": "code",
      "metadata": {
        "colab": {
          "base_uri": "https://localhost:8080/"
        },
        "id": "FqRCacp9ZUVL",
        "outputId": "6adc1883-95b6-4627-d7cc-7577e403c5a3"
      },
      "source": [
        "relations('wood.n.01')"
      ],
      "execution_count": null,
      "outputs": [
        {
          "output_type": "stream",
          "text": [
            "Member Meronyms:\n",
            " \n",
            "[]\n",
            "\n",
            "Part Meronyms:\n",
            "\n",
            "[]\n",
            "\n",
            "Substance Meronyms:\n",
            "\n",
            "[Synset('lignin.n.01')]\n",
            "\n",
            "Member Holonyms:\n",
            "\n",
            "[]\n",
            "\n",
            "Part Holonyms:\n",
            "\n",
            "[]\n",
            "\n",
            "Substance Holonyms:\n",
            "\n",
            "[Synset('beam.n.02'), Synset('chopping_block.n.01'), Synset('lumber.n.01'), Synset('spindle.n.02')]\n"
          ],
          "name": "stdout"
        }
      ]
    },
    {
      "cell_type": "markdown",
      "metadata": {
        "id": "5mib91Ptc0vo"
      },
      "source": [
        "**6.In the discussion of comparative wordlists, we created an object called translate which you could look up using words in both German and Spanish in order to get corresponding words in English. What problem might arise with this approach? Can you suggest a way to avoid this problem?**"
      ]
    },
    {
      "cell_type": "markdown",
      "metadata": {
        "id": "Ei0DGB1Cc_zb"
      },
      "source": [
        "Words could be spelled the same in two languages, but have different translations. With the means given so far: e.g. tag the words with the language ID."
      ]
    },
    {
      "cell_type": "code",
      "metadata": {
        "id": "sMj_Dp9rbp_K"
      },
      "source": [
        "from nltk.corpus import swadesh\n",
        "it2en = [(i + '-it', e) for (i, e) in swadesh.entries(['it', 'en'])]"
      ],
      "execution_count": null,
      "outputs": []
    },
    {
      "cell_type": "code",
      "metadata": {
        "colab": {
          "base_uri": "https://localhost:8080/",
          "height": 35
        },
        "id": "TuN3DpoNdClx",
        "outputId": "8b5409d6-66d7-434d-9d93-d577db486d8b"
      },
      "source": [
        "translate = dict(it2en)\n",
        "translate['padre-it']"
      ],
      "execution_count": null,
      "outputs": [
        {
          "output_type": "execute_result",
          "data": {
            "application/vnd.google.colaboratory.intrinsic+json": {
              "type": "string"
            },
            "text/plain": [
              "'father'"
            ]
          },
          "metadata": {},
          "execution_count": 113
        }
      ]
    },
    {
      "cell_type": "code",
      "metadata": {
        "colab": {
          "base_uri": "https://localhost:8080/",
          "height": 35
        },
        "id": "PBqqQ6zcdHFn",
        "outputId": "6475e1ba-945d-4d11-baf6-11de9e1d3f0f"
      },
      "source": [
        "de2en = [(d + '-de', e) for (d, e) in swadesh.entries(['de', 'en'])]\n",
        "translate.update(dict(de2en))\n",
        "translate['Mutter-de']"
      ],
      "execution_count": null,
      "outputs": [
        {
          "output_type": "execute_result",
          "data": {
            "application/vnd.google.colaboratory.intrinsic+json": {
              "type": "string"
            },
            "text/plain": [
              "'mother'"
            ]
          },
          "metadata": {},
          "execution_count": 114
        }
      ]
    },
    {
      "cell_type": "markdown",
      "metadata": {
        "id": "Hn05hGovgKB5"
      },
      "source": [
        "**7. According to Strunk and White's Elements of Style, the word however, used at the start of a sentence, means \"in whatever way\" or \"to whatever extent\", and not \"nevertheless\". They give this example of correct usage: However you advise him, he will probably do as he thinks best. (http://www.bartleby.com/141/strunk3.html) Use the concordance tool to study actual usage of this word in the various texts we have been considering. See also the LanguageLog posting \"Fossilized prejudices about 'however'\" at http://itre.cis.upenn.edu/~myl/languagelog/archives/001913.html**"
      ]
    },
    {
      "cell_type": "code",
      "metadata": {
        "colab": {
          "base_uri": "https://localhost:8080/"
        },
        "id": "QWOvoo4ogC5a",
        "outputId": "799d743a-6dd8-4a4d-d179-3d27e4fc242a"
      },
      "source": [
        "emma = nltk.Text(nltk.corpus.gutenberg.words('austen-sense.txt'))\n",
        "emma.concordance('however')"
      ],
      "execution_count": null,
      "outputs": [
        {
          "output_type": "stream",
          "text": [
            "Displaying 25 of 155 matches:\n",
            "hters . He meant not to be unkind , however , and , as a mark of his affection \n",
            "e condition of visitors . As such , however , they were treated by her with qui\n",
            "le .\" His wife hesitated a little , however , in giving her consent to this pla\n",
            "urned Mrs . John Dashwood . \" But , however , ONE thing must be considered . Wh\n",
            " can ever afford to live in . But , however , so it is . Your father thought on\n",
            "ce inquiry or remark . Conversation however was not wanted , for Sir John was v\n",
            "sary to the happiness of both ; for however dissimilar in temper and outward be\n",
            "al engagements at home and abroad , however , supplied all the deficiencies of \n",
            "s silent and grave . His appearance however was not unpleasing , in spite of hi\n",
            "n their own house . One consolation however remained for them , to which the ex\n",
            " in the country ? That is good news however ; I will ride over tomorrow , and a\n",
            " ever so rich . I am glad to find , however , from what you say , that he is a \n",
            "t to the excellence of such works , however disregarded before . Their taste wa\n",
            "ly excited by her sister ; and that however a general resemblance of dispositio\n",
            "d Marianne . \" Do not boast of it , however ,\" said Elinor , \" for it is injust\n",
            "t will be any satisfaction to you , however , to be told , that I believe his c\n",
            "wo wives , I know not . A few years however will settle her opinions on the rea\n",
            "n his side impossible . His concern however was very apparent ; and after expre\n",
            "d her husband and mother . The idea however started by her , was immediately pu\n",
            " are determined on anything . But , however , I hope you will think better of i\n",
            " I can guess what his business is , however ,\" said Mrs . Jennings exultingly .\n",
            "o unfortunate an event ; concluding however by observing , that as they were al\n",
            "r . Willoughby .\" \" Mr . Willoughby however is the only person who can have a r\n",
            "sed in him . There is great truth , however , in what you have now urged of the\n",
            "iced by him .\" \" Do not blame him , however , for departing from his character \n"
          ],
          "name": "stdout"
        }
      ]
    },
    {
      "cell_type": "code",
      "metadata": {
        "colab": {
          "base_uri": "https://localhost:8080/"
        },
        "id": "i09Htlimgau7",
        "outputId": "739cdf25-e2c8-4600-be9e-27a6370980ed"
      },
      "source": [
        "from nltk.corpus import inaugural\n",
        "lastword = inaugural.fileids()[-1]\n",
        "print(lastword)\n",
        "inaugural = nltk.Text(nltk.corpus.inaugural.words(lastword))\n",
        "inaugural.concordance('however')"
      ],
      "execution_count": null,
      "outputs": [
        {
          "output_type": "stream",
          "text": [
            "2017-Trump.txt\n",
            "Displaying 1 of 1 matches:\n",
            " . Thank you . Today ' s ceremony , however , has very special meaning . Becaus\n"
          ],
          "name": "stdout"
        }
      ]
    },
    {
      "cell_type": "markdown",
      "metadata": {
        "id": "oxvGCD079ZG3"
      },
      "source": [
        "**8.Define a conditional frequency distribution over the Names corpus that allows you to see which initial letters are more frequent for males vs. females**"
      ]
    },
    {
      "cell_type": "code",
      "metadata": {
        "id": "yRhggyuJgetn",
        "colab": {
          "base_uri": "https://localhost:8080/",
          "height": 280
        },
        "outputId": "bb76e0ac-a5b7-4766-ba54-25da444532bb"
      },
      "source": [
        "names = nltk.corpus.names\n",
        "cfd = nltk.ConditionalFreqDist(\n",
        "    (fileid, name[0])\n",
        "    for fileid in names.fileids()\n",
        "    for name in names.words(fileid))\n",
        "cfd.plot()"
      ],
      "execution_count": null,
      "outputs": [
        {
          "output_type": "display_data",
          "data": {
            "image/png": "[encoded data removed]",
            "text/plain": [
              "<Figure size 432x288 with 1 Axes>"
            ]
          },
          "metadata": {
            "needs_background": "light"
          }
        }
      ]
    },
    {
      "cell_type": "code",
      "metadata": {
        "colab": {
          "base_uri": "https://localhost:8080/"
        },
        "id": "CsuMhgea9y52",
        "outputId": "cadad9cd-a38e-4411-a424-a54b0db05575"
      },
      "source": [
        "len(names.words('female.txt'))"
      ],
      "execution_count": null,
      "outputs": [
        {
          "output_type": "execute_result",
          "data": {
            "text/plain": [
              "5001"
            ]
          },
          "metadata": {},
          "execution_count": 118
        }
      ]
    },
    {
      "cell_type": "code",
      "metadata": {
        "colab": {
          "base_uri": "https://localhost:8080/"
        },
        "id": "D_QYgeQK92LT",
        "outputId": "15b1a04e-c91e-4717-abaa-6fb30e627b58"
      },
      "source": [
        "len(names.words('male.txt'))"
      ],
      "execution_count": null,
      "outputs": [
        {
          "output_type": "execute_result",
          "data": {
            "text/plain": [
              "2943"
            ]
          },
          "metadata": {},
          "execution_count": 119
        }
      ]
    },
    {
      "cell_type": "markdown",
      "metadata": {
        "id": "6vMnPKMk-VUn"
      },
      "source": [
        "**9.Pick a pair of texts and study the differences between them, in terms of vocabulary, vocabulary richness, genre, etc. Can you find pairs of words which have quite different meanings across the two texts, such as monstrous in Moby Dick and in Sense and Sensibility?**"
      ]
    },
    {
      "cell_type": "code",
      "metadata": {
        "colab": {
          "base_uri": "https://localhost:8080/"
        },
        "id": "uykTsrfZ-fbJ",
        "outputId": "dc12c969-6ce9-4a2f-e278-728e99bd67d8"
      },
      "source": [
        "religion = brown.words(fileids='cd12')\n",
        "\n",
        "## Vocabulary:\n",
        "print (len(set(religion)))"
      ],
      "execution_count": null,
      "outputs": [
        {
          "output_type": "stream",
          "text": [
            "849\n"
          ],
          "name": "stdout"
        }
      ]
    },
    {
      "cell_type": "code",
      "metadata": {
        "colab": {
          "base_uri": "https://localhost:8080/"
        },
        "id": "PM9RMVVx-rTG",
        "outputId": "7076ff2c-5bbe-48b9-a2c0-f6d668c6010e"
      },
      "source": [
        "from nltk.corpus import gutenberg\n",
        "emma = gutenberg.words('austen-emma.txt')\n",
        "## Vocabulary:\n",
        "print(len(set(emma)))"
      ],
      "execution_count": null,
      "outputs": [
        {
          "output_type": "stream",
          "text": [
            "7811\n"
          ],
          "name": "stdout"
        }
      ]
    },
    {
      "cell_type": "code",
      "metadata": {
        "colab": {
          "base_uri": "https://localhost:8080/"
        },
        "id": "tWr_jVXR-30e",
        "outputId": "31ee9938-0092-49de-9a10-3e39ef5673b3"
      },
      "source": [
        "## Vocabulary richness:\n",
        "print (len(set(religion)) / len(religion))"
      ],
      "execution_count": null,
      "outputs": [
        {
          "output_type": "stream",
          "text": [
            "0.3680104031209363\n"
          ],
          "name": "stdout"
        }
      ]
    },
    {
      "cell_type": "code",
      "metadata": {
        "colab": {
          "base_uri": "https://localhost:8080/"
        },
        "id": "_rts5qAO-8Jr",
        "outputId": "e3be1c10-cd09-484d-b1f7-efa3d946ab7f"
      },
      "source": [
        "## Vocabulary richness:\n",
        "print (len(set(emma)) / len(emma))"
      ],
      "execution_count": null,
      "outputs": [
        {
          "output_type": "stream",
          "text": [
            "0.04059201671283136\n"
          ],
          "name": "stdout"
        }
      ]
    },
    {
      "cell_type": "code",
      "metadata": {
        "colab": {
          "base_uri": "https://localhost:8080/"
        },
        "id": "E8uxPuY1_AG3",
        "outputId": "0f07814f-62ab-444a-fd3c-18ecd6e5f2f3"
      },
      "source": [
        "emma=nltk.Text(emma)\n",
        "religion=nltk.Text(religion)\n",
        "emma.concordance('bear')"
      ],
      "execution_count": null,
      "outputs": [
        {
          "output_type": "stream",
          "text": [
            "Displaying 25 of 52 matches:\n",
            "ld never find fault . How was she to bear the change ?-- It was true that her \n",
            "s Taylor live with us for ever , and bear all my odd humours , when she might \n",
            "had never cooled , and who could ill bear to part with her . She knew that at \n",
            "nd spirits that might be hoped would bear her well and happily through its lit\n",
            "s all eat up . His own stomach could bear nothing rich , and he could never be\n",
            ", and that with every disposition to bear , there will be nothing to be borne \n",
            " altogether it was more than I could bear ; and so I never would finish it , t\n",
            "ember , and Mr . Woodhouse could not bear the idea of her stirring out of her \n",
            ". \" Nor , if you were , could I ever bear to part with you , my Harriet . You \n",
            "hink you ever will . Isabella cannot bear to stay behind her husband .\" This w\n",
            " had to tell what every field was to bear next year , and to give all such loc\n",
            "our going to South End . It does not bear talking of .\" And for a little while\n",
            "ound for disappointing us . I cannot bear to imagine any reluctance on his sid\n",
            "urning a corner which he could never bear to think of -- and in strange hands \n",
            "nd not roast it , for no stomach can bear roast pork -- I think we had better \n",
            "s so pleased !-- she says she cannot bear to have the poor old Vicarage withou\n",
            " take cold . Poor girl ! I could not bear the idea of it ; so , as soon as Mr \n",
            "ter ?\" \" Yes , I would . I could not bear to have Henry supplanted .-- Mr . Kn\n",
            "d degrading connexion . How would he bear to have Miss Bates belonging to him \n",
            "pt for Jane ; and I could not at all bear that he should be sending us more , \n",
            " being all sent away . She could not bear that her master should not be able t\n",
            " not . Ah ! he is off . He never can bear to be thanked . But I thought he wou\n",
            " extreme of imprudence . I could not bear it for Emma !-- Emma is not strong .\n",
            " !-- every day making me less fit to bear any other place . Happy those , who \n",
            "with .\" It was as much as Emma could bear , without being impolite . The idea \n"
          ],
          "name": "stdout"
        }
      ]
    },
    {
      "cell_type": "code",
      "metadata": {
        "colab": {
          "base_uri": "https://localhost:8080/"
        },
        "id": "egE1n8QIBmRF",
        "outputId": "19813f4a-c54e-40b3-e640-aa19c92184ff"
      },
      "source": [
        "religion.concordance('bear')"
      ],
      "execution_count": null,
      "outputs": [
        {
          "output_type": "stream",
          "text": [
            "Displaying 2 of 2 matches:\n",
            "rch and university help him bring to bear upon his situation ? ? Recently , a \n",
            " to bring his particular insights to bear upon the question of discrimination \n"
          ],
          "name": "stdout"
        }
      ]
    },
    {
      "cell_type": "code",
      "metadata": {
        "colab": {
          "base_uri": "https://localhost:8080/"
        },
        "id": "5qKTSsDqCBiJ",
        "outputId": "b4ff792f-5b46-407b-e72e-3691b5cc2db9"
      },
      "source": [
        "emma.concordance('to')"
      ],
      "execution_count": null,
      "outputs": [
        {
          "output_type": "stream",
          "text": [
            "Displaying 25 of 5239 matches:\n",
            "e home and happy disposition , seemed to unite some of the best blessings of e\n",
            "e years in the world with very little to distress or vex her . She was the you\n",
            " mother had died too long ago for her to have more than an indistinct remembra\n",
            " . Even before Miss Taylor had ceased to hold the nominal office of governess \n",
            " of her temper had hardly allowed her to impose any restraint ; and the shadow\n",
            " much her own way , and a disposition to think a little too well of herself ; \n",
            " disadvantages which threatened alloy to her many enjoyments . The danger , ho\n",
            "ne , her father and herself were left to dine together , with no prospect of a\n",
            "ogether , with no prospect of a third to cheer a long evening . Her father com\n",
            "evening . Her father composed himself to sleep after dinner , as usual , and s\n",
            "er , as usual , and she had then only to sit and think of what she had lost . \n",
            "-- how she had devoted all her powers to attach and amuse her in health -- and\n",
            "la ' s marriage , on their being left to each other , was yet a dearer , tende\n",
            "leasure , every scheme of hers -- one to whom she could speak every thought as\n",
            " could never find fault . How was she to bear the change ?-- It was true that \n",
            "husband , and their little children , to fill the house , and give her pleasan\n",
            "d populous village , almost amounting to a town , to which Hartfield , in spit\n",
            "illage , almost amounting to a town , to which Hartfield , in spite of its sep\n",
            " in consequence there . All looked up to them . She had many acquaintance in t\n",
            " father awoke , and made it necessary to be cheerful . His spirits required su\n",
            "; fond of every body that he was used to , and hating to part with them ; hati\n",
            "body that he was used to , and hating to part with them ; hating change of eve\n",
            "and he was by no means yet reconciled to his own daughter ' s marrying , nor c\n",
            "f affection , when he was now obliged to part with Miss Taylor too ; and from \n",
            "selfishness , and of being never able to suppose that other people could feel \n"
          ],
          "name": "stdout"
        }
      ]
    },
    {
      "cell_type": "code",
      "metadata": {
        "colab": {
          "base_uri": "https://localhost:8080/"
        },
        "id": "wzjfU7ayCbYn",
        "outputId": "f77d9231-aa7a-46fe-a794-e9960813d98d"
      },
      "source": [
        "religion.concordance('to')"
      ],
      "execution_count": null,
      "outputs": [
        {
          "output_type": "stream",
          "text": [
            "Displaying 25 of 40 matches:\n",
            "d worth , aspirations and hopes basic to human well-being . For almost one-six\n",
            "ears have come under heavier pressure to face these realities than real estate\n",
            "nd its local associations have sought to limit and often ignore much of this p\n",
            "nt ? ? What does he conceive his role to be in this area of social unrest ? ? \n",
            " area of social unrest ? ? What ought to be , what is his potential role as a \n",
            " church and university help him bring to bear upon his situation ? ? Recently \n",
            "ic Affairs Center sought some answers to these questions . Several New England\n",
            "ral New England realtors were invited to participate in a small colloquium of \n",
            "ss and mutual criticism , each sought to bring his particular insights to bear\n",
            "ught to bring his particular insights to bear upon the question of discriminat\n",
            "faculty and student body , attempting to explore and clarify aspects of their \n",
            ", the most ready portrayal of oneself to `` the public '' is that of a neutral\n",
            ". Professional responsibility is seen to consist largely in serving the wishes\n",
            " congenial '' , `` happy '' relations to other people in certain community are\n",
            " presence will clearly be detrimental to property values in that neighborhood \n",
            "eighborhood '' . Though the reference to race was stricken by the association \n",
            "sin realtors see themselves committed to avoid . The rationale for this avoida\n",
            "they believed would inevitably attach to any realtor who openly introduced non\n",
            "`` reform '' , and this was no longer to be a `` pro '' . Obviously what we ar\n",
            "a client , rather than responsiveness to the wider and deeper meaning and asso\n",
            "nd attitudes of the people they claim to serve , or about the public responses\n",
            "es his moral understanding . It seems to us that choices exercised by realtors\n",
            "s a `` real pro '' , of what it means to be a professional man in a technical \n",
            "their society . There is some reality to this ; ; the Commission on Race and H\n",
            " concluded that `` there is no reason to believe that real estate men are eith\n"
          ],
          "name": "stdout"
        }
      ]
    },
    {
      "cell_type": "markdown",
      "metadata": {
        "id": "Y_V_X0eOPieS"
      },
      "source": [
        "**10.Read the BBC News article: UK's Vicky Pollards 'left behind' http://news.bbc.co.uk/1/hi/education/6173441.stm. The article gives the following statistic about teen language: \"the top 20 words used, including yeah, no, but and like, account for around a third of all words.\" How many word types account for a third of all word tokens, for a variety of text sources? What do you conclude about this statistic? Read more about this on LanguageLog, at http://itre.cis.upenn.edu/~myl/languagelog/archives/003993.html.**"
      ]
    },
    {
      "cell_type": "code",
      "metadata": {
        "id": "GIL3fvhCChfP",
        "colab": {
          "base_uri": "https://localhost:8080/"
        },
        "outputId": "24dad87b-f812-401f-fea3-6680e036df82"
      },
      "source": [
        "from __future__ import division\n",
        "\n",
        "def third_of_tokens(text):\n",
        "    words_in_text = [w for w in text if any(c.isalpha() for c in w)]\n",
        "\n",
        "    fd = nltk.FreqDist(words_in_text)\n",
        "    most = fd.most_common(1000)\n",
        "    count = 0\n",
        "    third_words = []\n",
        "\n",
        "    for word, num in most:\n",
        "        if ((count < (len(words_in_text) / 3)) & any(c.isalpha() for c in word)):\n",
        "            count = count + num\n",
        "            third_words.append(word)\n",
        "    print (third_words)     \n",
        "    print (len(third_words))\n",
        "    \n",
        "third_of_tokens(religion)"
      ],
      "execution_count": null,
      "outputs": [
        {
          "output_type": "stream",
          "text": [
            "['the', 'of', 'and', 'in', 'a', 'to', 'as', 'that', 'or', 'is', 'for', 'their', 'realtors', 'by', 'social', 'housing', 'have', 'this', 'be', 'they']\n",
            "20\n"
          ],
          "name": "stdout"
        }
      ]
    },
    {
      "cell_type": "code",
      "metadata": {
        "colab": {
          "base_uri": "https://localhost:8080/"
        },
        "id": "zDluLUENPzmb",
        "outputId": "cbf1a4ca-46d3-49ca-d408-5c34a4a1381e"
      },
      "source": [
        "third_of_tokens(emma)"
      ],
      "execution_count": null,
      "outputs": [
        {
          "output_type": "stream",
          "text": [
            "['to', 'the', 'and', 'of', 'I', 'a', 'was', 'her', 'it', 'in', 'not', 'be', 'she', 'that', 'you', 'had', 'as', 'he', 'for', 'have', 'is', 'with', 'Mr', 'very']\n",
            "24\n"
          ],
          "name": "stdout"
        }
      ]
    },
    {
      "cell_type": "markdown",
      "metadata": {
        "id": "-led6YPQQI_u"
      },
      "source": [
        "**11.Investigate the table of modal distributions and look for other patterns. Try to explain them in terms of your own impressionistic understanding of the different genres. Can you find other closed classes of words that exhibit significant differences across different genres?**"
      ]
    },
    {
      "cell_type": "code",
      "metadata": {
        "colab": {
          "base_uri": "https://localhost:8080/"
        },
        "id": "dLrpXdgdP2Fv",
        "outputId": "f8d813da-4fa8-466a-d811-8ec956dfb99a"
      },
      "source": [
        "pronouns=['I', 'she', 'he', 'they','it', 'you']\n",
        "cfd=nltk.ConditionalFreqDist((genre, word)\n",
        "for genre in brown.categories()\n",
        "for word in brown.words(categories=genre))\n",
        "genres=['adventure', 'belles_lettres', 'editorial', 'fiction', 'government', 'hobbies',\n",
        "'humor', 'learned', 'lore', 'mystery', 'news', 'religion', 'reviews', 'romance',\n",
        "'science_fiction']\n",
        "cfd.tabulate(conditions=genres, samples=pronouns)\n"
      ],
      "execution_count": null,
      "outputs": [
        {
          "output_type": "stream",
          "text": [
            "                   I  she   he they   it  you \n",
            "      adventure  652  240  761  206  492  362 \n",
            " belles_lettres  845  178 1174  488 1059  188 \n",
            "      editorial  201   41  268  148  386   83 \n",
            "        fiction  511  280  813  230  458  236 \n",
            "     government   97    0  120   92  218   74 \n",
            "        hobbies  154   21  155  177  476  383 \n",
            "          humor  239   58  146   70  162  131 \n",
            "        learned  182   54  328  338  856   39 \n",
            "           lore  265  232  541  303  566  209 \n",
            "        mystery  583  219  670  106  515  340 \n",
            "           news  179   42  451  205  363   55 \n",
            "       religion  155   10  137  115  264  100 \n",
            "        reviews   49   42  161   74  206   29 \n",
            "        romance  951  496  702  168  573  456 \n",
            "science_fiction   98   36  139   53  129   81 \n"
          ],
          "name": "stdout"
        }
      ]
    },
    {
      "cell_type": "code",
      "metadata": {
        "colab": {
          "base_uri": "https://localhost:8080/"
        },
        "id": "lCfPECUwRFJA",
        "outputId": "ae6dffcb-7381-484a-827a-bf65431c9233"
      },
      "source": [
        "questions=['who', 'what', 'where', 'when', 'why','how']\n",
        "cfd.tabulate(conditions=genres, samples=questions)"
      ],
      "execution_count": null,
      "outputs": [
        {
          "output_type": "stream",
          "text": [
            "                  who  what where  when   why   how \n",
            "      adventure    91   110    53   126    13    35 \n",
            " belles_lettres   452   244   107   252    36    96 \n",
            "      editorial   172    84    40   103    10    43 \n",
            "        fiction   103   128    76   133    18    54 \n",
            "     government    74    43    46    56     6    16 \n",
            "        hobbies   103    78    72   119    10    40 \n",
            "          humor    48    36    15    52     9    18 \n",
            "        learned   212   141   118   227    20    61 \n",
            "           lore   259   130    97   182    25    65 \n",
            "        mystery    80   109    59   114    25    37 \n",
            "           news   268    76    58   128     9    37 \n",
            "       religion   100    64    20    53    14    23 \n",
            "        reviews   128    44    25    54     9    26 \n",
            "        romance    89   121    54   126    34    60 \n",
            "science_fiction    13    27    10    21     4    12 \n"
          ],
          "name": "stdout"
        }
      ]
    },
    {
      "cell_type": "markdown",
      "metadata": {
        "id": "5KIV3m_iR0jy"
      },
      "source": [
        "**12.The CMU Pronouncing Dictionary contains multiple pronunciations for certain words. How many distinct words does it contain? What fraction of words in this dictionary have more than one possible pronunciation?**"
      ]
    },
    {
      "cell_type": "code",
      "metadata": {
        "colab": {
          "base_uri": "https://localhost:8080/"
        },
        "id": "gCkloYR0Rq5v",
        "outputId": "285e17be-1571-4aba-9e26-6a58546f87f3"
      },
      "source": [
        "count_distinct = 0\n",
        "dublettes = []\n",
        "prev = ''\n",
        "for entry in nltk.corpus.cmudict.entries():\n",
        "    if ((entry[0] == prev) and (entry[0] not in dublettes)):\n",
        "        dublettes.append(entry[0])\n",
        "    else: \n",
        "        count_distinct = count_distinct + 1\n",
        "        prev = entry[0]\n",
        "print ('Count Distinct:',count_distinct)\n",
        "print ('Fraction:',(len(dublettes) / count_distinct) * 100)"
      ],
      "execution_count": null,
      "outputs": [
        {
          "output_type": "stream",
          "text": [
            "Count Distinct: 125033\n",
            "Fraction: 6.961362200379099\n"
          ],
          "name": "stdout"
        }
      ]
    },
    {
      "cell_type": "markdown",
      "metadata": {
        "id": "pt4rTCb3SwU4"
      },
      "source": [
        "**13.What percentage of noun synsets have no hyponyms? You can get all noun synsets using wn.all_synsets('n')**"
      ]
    },
    {
      "cell_type": "code",
      "metadata": {
        "colab": {
          "base_uri": "https://localhost:8080/"
        },
        "id": "Ro4z_3V5SLtI",
        "outputId": "850704ba-d9dd-4d58-fed4-85ecd021a002"
      },
      "source": [
        "all_syns = list(wn.all_synsets('n'))\n",
        "no_hyponyms = [s for s in all_syns if len(s.hyponyms()) == 0]\n",
        "a=len(all_syns)\n",
        "b=len(no_hyponyms)\n",
        "print(float(a/b)*100)\n",
        "\n"
      ],
      "execution_count": null,
      "outputs": [
        {
          "output_type": "stream",
          "text": [
            "125.51588150774968\n"
          ],
          "name": "stdout"
        }
      ]
    },
    {
      "cell_type": "markdown",
      "metadata": {
        "id": "R0Lc-WrKVW_U"
      },
      "source": [
        "**14.Define a function supergloss(s) that takes a synset s as its argument and returns a string consisting of the concatenation of the definition of s, and the definitions of all the hypernyms and hyponyms of s.**"
      ]
    },
    {
      "cell_type": "code",
      "metadata": {
        "colab": {
          "base_uri": "https://localhost:8080/"
        },
        "id": "jRCDZ04yS2_n",
        "outputId": "a7db100f-c074-443f-e7fd-7496d720ac57"
      },
      "source": [
        "def supergloass(s):\n",
        "  gloss= \"Definition:\" +s.definition()+'\\n\\n'\n",
        "  gloss=gloss+'Hypernyms:\\n'\n",
        "  for hypernym in s.hypernyms():\n",
        "    gloss = gloss + hypernym.name() + ': ' + hypernym.definition() + '\\n\\n'\n",
        "  gloss=gloss+'Hyponyms:\\n'\n",
        "  for hyponym in s.hyponyms():\n",
        "    gloss = gloss + hyponym.name() + ': ' + hyponym.definition() + '\\n\\n'\n",
        "  return gloss\n",
        "\n",
        "print(supergloass(wn.synset('bicycle.n.01')))"
      ],
      "execution_count": null,
      "outputs": [
        {
          "output_type": "stream",
          "text": [
            "Definition:a wheeled vehicle that has two wheels and is moved by foot pedals\n",
            "\n",
            "Hypernyms:\n",
            "wheeled_vehicle.n.01: a vehicle that moves on wheels and usually has a container for transporting things or people\n",
            "\n",
            "Hyponyms:\n",
            "bicycle-built-for-two.n.01: a bicycle with two sets of pedals and two seats\n",
            "\n",
            "mountain_bike.n.01: a bicycle with a sturdy frame and fat tires; originally designed for riding in mountainous country\n",
            "\n",
            "ordinary.n.04: an early bicycle with a very large front wheel and small back wheel\n",
            "\n",
            "push-bike.n.01: a bicycle that must be pedaled\n",
            "\n",
            "safety_bicycle.n.01: bicycle that has two wheels of equal size; pedals are connected to the rear wheel by a multiplying gear\n",
            "\n",
            "velocipede.n.01: any of several early bicycles with pedals on the front wheel\n",
            "\n",
            "\n"
          ],
          "name": "stdout"
        }
      ]
    },
    {
      "cell_type": "code",
      "metadata": {
        "colab": {
          "base_uri": "https://localhost:8080/"
        },
        "id": "SxU-ooFMWNjp",
        "outputId": "e2c1aa94-dac8-4e84-b188-4c2d059b9ad1"
      },
      "source": [
        "print(supergloass(wn.synset('love.n.01')))"
      ],
      "execution_count": null,
      "outputs": [
        {
          "output_type": "stream",
          "text": [
            "Definition:a strong positive emotion of regard and affection\n",
            "\n",
            "Hypernyms:\n",
            "emotion.n.01: any strong feeling\n",
            "\n",
            "Hyponyms:\n",
            "agape.n.01: (Christian theology) the love of God or Christ for mankind\n",
            "\n",
            "agape.n.02: selfless love of one person for another without sexual implications (especially love that is spiritual in nature)\n",
            "\n",
            "amorousness.n.01: a feeling of love or fondness\n",
            "\n",
            "ardor.n.02: intense feeling of love\n",
            "\n",
            "benevolence.n.01: disposition to do good\n",
            "\n",
            "devotion.n.01: feelings of ardent love\n",
            "\n",
            "filial_love.n.01: the love of a child for a parent\n",
            "\n",
            "heartstrings.n.01: your deepest feelings of love and compassion\n",
            "\n",
            "lovingness.n.01: a loving feeling\n",
            "\n",
            "loyalty.n.02: feelings of allegiance\n",
            "\n",
            "puppy_love.n.01: temporary love of an adolescent\n",
            "\n",
            "worship.n.02: a feeling of profound love and admiration\n",
            "\n",
            "\n"
          ],
          "name": "stdout"
        }
      ]
    },
    {
      "cell_type": "markdown",
      "metadata": {
        "id": "u_rJDfWWXixF"
      },
      "source": [
        " **15.Write a program to find all words that occur at least three times in the Brown Corpus.**"
      ]
    },
    {
      "cell_type": "code",
      "metadata": {
        "colab": {
          "base_uri": "https://localhost:8080/"
        },
        "id": "qsNUQt-5XOKt",
        "outputId": "af9cf078-2203-44fe-8a02-761b2b44651a"
      },
      "source": [
        "fd = nltk.FreqDist(brown.words())\n",
        "triple_words = [w for w in fd.keys() if fd[w]>=3]\n",
        "print ('Brown Word Length:',len(brown.words()))\n",
        "print ('Triple Word Length:',len(triple_words))\n"
      ],
      "execution_count": null,
      "outputs": [
        {
          "output_type": "stream",
          "text": [
            "Brown Word Length: 1161192\n",
            "Triple Word Length: 22339\n"
          ],
          "name": "stdout"
        }
      ]
    },
    {
      "cell_type": "markdown",
      "metadata": {
        "id": "c5JjJkhOZ70I"
      },
      "source": [
        "**16.Write a program to generate a table of lexical diversity scores (i.e. token/type ratios), as we saw in 1.1. Include the full set of Brown Corpus genres (nltk.corpus.brown.categories()). Which genre has the lowest diversity (greatest number of tokens per type)? Is this what you would have expected?**"
      ]
    },
    {
      "cell_type": "code",
      "metadata": {
        "id": "jB9HJYdpX4bL",
        "colab": {
          "base_uri": "https://localhost:8080/"
        },
        "outputId": "b1ecf84d-9694-43ee-d416-70541f8eee4a"
      },
      "source": [
        "def lexical_diversity(text):\n",
        "  return float(len(set(text)) / len(text))\n",
        "\n",
        "c=list(brown.categories())\n",
        "for i in range (len(c)):\n",
        "  d=round(lexical_diversity(c[i]),2)\n",
        "  print(c[i],d)"
      ],
      "execution_count": null,
      "outputs": [
        {
          "output_type": "stream",
          "text": [
            "adventure 0.89\n",
            "belles_lettres 0.5\n",
            "editorial 0.89\n",
            "fiction 0.86\n",
            "government 0.8\n",
            "hobbies 0.86\n",
            "humor 1.0\n",
            "learned 0.86\n",
            "lore 1.0\n",
            "mystery 0.86\n",
            "news 1.0\n",
            "religion 0.88\n",
            "reviews 0.86\n",
            "romance 1.0\n",
            "science_fiction 0.6\n"
          ],
          "name": "stdout"
        }
      ]
    },
    {
      "cell_type": "markdown",
      "metadata": {
        "id": "3-6GuVcgit8Y"
      },
      "source": [
        "**15.Write a function that finds the 50 most frequently occurring words of a text that are not stopwords.**"
      ]
    },
    {
      "cell_type": "code",
      "metadata": {
        "id": "tFIP0nebarBT",
        "colab": {
          "base_uri": "https://localhost:8080/"
        },
        "outputId": "ae0ea592-64ea-4085-8482-8f66c05c32c6"
      },
      "source": [
        "def most_frequent_content_words(text):\n",
        "    stopwords = nltk.corpus.stopwords.words('english')\n",
        "    content_words = [w.lower() for w in text if w.lower() not in stopwords and any(c.isalpha() for c in w)]\n",
        "    fd = nltk.FreqDist(content_words)\n",
        "    return [w for w, num in fd.most_common(50)]\n",
        "print (most_frequent_content_words(religion))"
      ],
      "execution_count": null,
      "outputs": [
        {
          "output_type": "stream",
          "text": [
            "['realtors', 'housing', 'social', 'real', 'estate', 'professional', 'values', 'property', 'racial', 'group', 'new', 'associations', 'faculty', 'public', 'political', 'discrimination', 'realtor', 'race', 'role', 'university', 'men', 'community', 'moral', 'legal', 'particular', 'upon', 'groups', 'recent', 'pressure', 'sought', 'boards', 'local', 'area', 'present', 'members', 'would', 'areas', 'narrow', 'opportunities', 'support', 'much', 'within', 'neighborhood', 'basic', 'human', 'population', 'considerable', 'business', 'years', 'minority']\n"
          ],
          "name": "stdout"
        }
      ]
    },
    {
      "cell_type": "code",
      "metadata": {
        "colab": {
          "base_uri": "https://localhost:8080/"
        },
        "id": "s592oSbzjG2o",
        "outputId": "93a75bc0-2a64-4c19-e08a-d88239f9658b"
      },
      "source": [
        "print (most_frequent_content_words(emma))"
      ],
      "execution_count": null,
      "outputs": [
        {
          "output_type": "stream",
          "text": [
            "['mr', 'emma', 'could', 'would', 'mrs', 'miss', 'must', 'harriet', 'much', 'said', 'one', 'weston', 'every', 'well', 'thing', 'knightley', 'elton', 'think', 'little', 'never', 'good', 'know', 'might', 'woodhouse', 'say', 'jane', 'quite', 'time', 'great', 'nothing', 'dear', 'fairfax', 'always', 'man', 'thought', 'soon', 'churchill', 'see', 'may', 'shall', 'without', 'first', 'frank', 'father', 'sure', 'indeed', 'like', 'made', 'body', 'ever']\n"
          ],
          "name": "stdout"
        }
      ]
    },
    {
      "cell_type": "markdown",
      "metadata": {
        "id": "OcM2do91jvQj"
      },
      "source": [
        "**16.Write a program to print the 50 most frequent bigrams (pairs of adjacent words) of a text, omitting bigrams that contain stopwords.**"
      ]
    },
    {
      "cell_type": "code",
      "metadata": {
        "colab": {
          "base_uri": "https://localhost:8080/"
        },
        "id": "GMpcWU9SjMbH",
        "outputId": "814a267d-a9bb-4f93-bae8-5823ddf01427"
      },
      "source": [
        "def most_frequent_bigrams(text):\n",
        "    stopwords = nltk.corpus.stopwords.words('english')\n",
        "    bigrams = [b for b in nltk.bigrams(text) if b[0] not in stopwords and b[1] not in stopwords and any(c.isalpha() for c in b[0]) and any(c.isalpha() for c in b[1])]\n",
        "    fd = nltk.FreqDist(bigrams)\n",
        "    return [b for b, num in fd.most_common(50)]\n",
        "\n",
        "print (most_frequent_bigrams(emma))"
      ],
      "execution_count": null,
      "outputs": [
        {
          "output_type": "stream",
          "text": [
            "[('Miss', 'Woodhouse'), ('Frank', 'Churchill'), ('Miss', 'Fairfax'), ('I', 'shall'), ('every', 'thing'), ('Miss', 'Bates'), ('Jane', 'Fairfax'), ('I', 'think'), ('every', 'body'), ('I', 'hope'), ('I', 'could'), ('I', 'must'), ('young', 'man'), ('I', 'cannot'), ('great', 'deal'), ('I', 'would'), ('Emma', 'could'), ('said', 'Emma'), ('I', 'know'), ('Miss', 'Smith'), ('John', 'Knightley'), ('I', 'never'), ('I', 'dare'), ('dare', 'say'), ('Miss', 'Taylor'), ('I', 'assure'), ('I', 'believe'), ('But', 'I'), ('My', 'dear'), ('said', 'Mr'), ('I', 'thought'), ('I', 'suppose'), ('She', 'could'), ('I', 'wish'), ('dear', 'Emma'), ('Harriet', 'Smith'), ('Robert', 'Martin'), ('Maple', 'Grove'), ('It', 'would'), ('Colonel', 'Campbell'), ('cried', 'Emma'), ('She', 'would'), ('And', 'I'), ('young', 'woman'), ('young', 'lady'), ('body', 'else'), ('If', 'I'), ('She', 'must'), ('I', 'always'), ('good', 'deal')]\n"
          ],
          "name": "stdout"
        }
      ]
    },
    {
      "cell_type": "code",
      "metadata": {
        "colab": {
          "base_uri": "https://localhost:8080/"
        },
        "id": "wergSvCOj4oI",
        "outputId": "50e4aaa8-bfe2-4ab7-b254-cfe15725604f"
      },
      "source": [
        "print(most_frequent_bigrams(religion))"
      ],
      "execution_count": null,
      "outputs": [
        {
          "output_type": "stream",
          "text": [
            "[('real', 'estate'), ('property', 'values'), ('Real', 'Estate'), ('Estate', 'Boards'), ('political', 'processes'), ('estate', 'brokers'), ('bear', 'upon'), ('New', 'England'), ('housing', 'symbolizes'), ('symbolizes', 'social'), ('social', 'status'), ('acceptance', 'within'), ('given', 'group'), ('particular', 'cultural'), ('cultural', 'values'), ('social', 'institutions'), ('hopes', 'basic'), ('human', 'well-being'), ('For', 'almost'), ('almost', 'one-sixth'), ('national', 'population'), ('population', 'discrimination'), ('free', 'selection'), ('residence', 'casts'), ('considerable', 'shadow'), ('shadow', 'upon'), ('values', 'assumed'), ('Few', 'business'), ('business', 'groups'), ('recent', 'years'), ('heavier', 'pressure'), ('home', 'builders'), ('This', 'pressure'), ('urged', 're-evaluation'), ('assumptions', 'underlying'), ('professional', 'ethics'), ('sought', 'new'), ('new', 'sympathy'), ('human', 'aspirations'), ('racial', 'minority'), ('minority', 'groups'), ('estate', 'interests'), ('National', 'Association'), ('local', 'associations'), ('often', 'ignore'), ('ignore', 'much'), ('local', 'realtor'), ('realtor', 'see'), ('housing', 'restrictions'), ('restrictions', 'based')]\n"
          ],
          "name": "stdout"
        }
      ]
    },
    {
      "cell_type": "markdown",
      "metadata": {
        "id": "Rgl0MaICkOTo"
      },
      "source": [
        "**17.Write a program to create a table of word frequencies by genre, like the one given in 1 for modals. Choose your own words and try to find words whose presence (or absence) is typical of a genre. Discuss your findings.**"
      ]
    },
    {
      "cell_type": "code",
      "metadata": {
        "colab": {
          "base_uri": "https://localhost:8080/"
        },
        "id": "aIIXAHGKkCGQ",
        "outputId": "e7708377-e35f-40bd-f7ed-9513060db12d"
      },
      "source": [
        "def table(words, genres):\n",
        "    cfd = nltk.ConditionalFreqDist(\n",
        "        (genre, word)\n",
        "        for genre in brown.categories()\n",
        "        for word in brown.words(categories=genre))\n",
        "    cfd.tabulate(conditions=genres, samples=words)\n",
        "    \n",
        "table(['perhaps', 'maybe', 'possibly', 'surely', 'certainly', 'absolutely'], ['news', 'religion', 'government', 'learned', 'fiction', 'romance', 'humor'])"
      ],
      "execution_count": null,
      "outputs": [
        {
          "output_type": "stream",
          "text": [
            "              perhaps      maybe   possibly     surely  certainly absolutely \n",
            "      news         11          1          3          2          6          1 \n",
            "  religion          5          0          7          3          6          1 \n",
            "government          4          1          2          0          2          0 \n",
            "   learned         30          2          7          1         19          4 \n",
            "   fiction         11          7          3          3          8          2 \n",
            "   romance         15         15          4          3          4          2 \n",
            "     humor          6          1          1          0          3          0 \n"
          ],
          "name": "stdout"
        }
      ]
    },
    {
      "cell_type": "markdown",
      "metadata": {
        "id": "0JE6pvO7lU1-"
      },
      "source": [
        "**20.Write a function word_freq() that takes a word and the name of a section of the Brown Corpus as arguments, and computes the frequency of the word in that section of the corpus.**"
      ]
    },
    {
      "cell_type": "code",
      "metadata": {
        "colab": {
          "base_uri": "https://localhost:8080/"
        },
        "id": "wPndMMUulXpM",
        "outputId": "1dd3486b-a4ff-406d-be75-8470ebc8985a"
      },
      "source": [
        "def word_freq(word, genre):\n",
        "    fd = nltk.FreqDist(brown.words(categories=genre))\n",
        "    return fd[word]\n",
        "\n",
        "word_freq('God', 'religion')"
      ],
      "execution_count": null,
      "outputs": [
        {
          "output_type": "execute_result",
          "data": {
            "text/plain": [
              "131"
            ]
          },
          "metadata": {},
          "execution_count": 187
        }
      ]
    },
    {
      "cell_type": "code",
      "metadata": {
        "colab": {
          "base_uri": "https://localhost:8080/"
        },
        "id": "Hhf9q6YJlzV4",
        "outputId": "c0c1b5b9-cbed-447a-fcca-84e255e72430"
      },
      "source": [
        "word_freq('God', 'government')"
      ],
      "execution_count": null,
      "outputs": [
        {
          "output_type": "execute_result",
          "data": {
            "text/plain": [
              "3"
            ]
          },
          "metadata": {},
          "execution_count": 190
        }
      ]
    },
    {
      "cell_type": "markdown",
      "metadata": {
        "id": "uN2GnsnYn0L_"
      },
      "source": [
        "**21.Write a program to guess the number of syllables contained in a text, making use of the CMU Pronouncing Dictionary.**"
      ]
    },
    {
      "cell_type": "code",
      "metadata": {
        "colab": {
          "base_uri": "https://localhost:8080/"
        },
        "id": "yxrfgqyTl1L0",
        "outputId": "60049255-ecca-4efd-a8ac-cbac9b93dbdb"
      },
      "source": [
        "prondict = nltk.corpus.cmudict.dict()\n",
        "    \n",
        "def guess_syllables(text):\n",
        "    count_syllables = 0;\n",
        "    for word in text:\n",
        "        if any(c.isalpha() for c in word):\n",
        "            try:\n",
        "                pron = prondict[word.lower()][0]\n",
        "            except KeyError:\n",
        "                print ('\"' + word.lower() + '\" does not exist in CMU!')\n",
        "                continue\n",
        "            else:    \n",
        "                for syllable in pron:\n",
        "                    if any(c.isnumeric() for c in syllable):\n",
        "                        count_syllables = count_syllables + 1;\n",
        "    return count_syllables\n",
        "\n",
        "guess_syllables(['Betty', 'Better', 'Butter', 'Bitter'])"
      ],
      "execution_count": null,
      "outputs": [
        {
          "output_type": "execute_result",
          "data": {
            "text/plain": [
              "8"
            ]
          },
          "metadata": {},
          "execution_count": 194
        }
      ]
    },
    {
      "cell_type": "code",
      "metadata": {
        "colab": {
          "base_uri": "https://localhost:8080/"
        },
        "id": "FoY9w3mjn85B",
        "outputId": "7990fdf0-5903-4330-ca2e-5c4573cbe981"
      },
      "source": [
        "guess_syllables(['Natural', 'Language', 'Subject', 'is', 'a', 'Boring', 'Subject'])"
      ],
      "execution_count": null,
      "outputs": [
        {
          "output_type": "execute_result",
          "data": {
            "text/plain": [
              "13"
            ]
          },
          "metadata": {},
          "execution_count": 197
        }
      ]
    },
    {
      "cell_type": "markdown",
      "metadata": {
        "id": "6dpQm8AGqgQ2"
      },
      "source": [
        "**22.Define a function hedge(text) which processes a text and produces a new version with the word 'like' between every third word.**"
      ]
    },
    {
      "cell_type": "code",
      "metadata": {
        "colab": {
          "base_uri": "https://localhost:8080/"
        },
        "id": "AIJaafKSqXuB",
        "outputId": "34a17438-55d0-4eaf-8e41-b90e8e39c6c1"
      },
      "source": [
        "def hedge(text):\n",
        "    lists = []\n",
        "    count = 0\n",
        "    for word in text:\n",
        "        lists.append(word)\n",
        "        count = count + 1\n",
        "        if count == 3:\n",
        "          lists.append('like')\n",
        "          count = 0\n",
        "    return lists\n",
        "\n",
        "hedge(['I', 'do', 'not', 'her','she', 'will','her'])"
      ],
      "execution_count": null,
      "outputs": [
        {
          "output_type": "execute_result",
          "data": {
            "text/plain": [
              "['I', 'do', 'not', 'like', 'her', 'she', 'will', 'like', 'her']"
            ]
          },
          "metadata": {},
          "execution_count": 209
        }
      ]
    }
  ]
}