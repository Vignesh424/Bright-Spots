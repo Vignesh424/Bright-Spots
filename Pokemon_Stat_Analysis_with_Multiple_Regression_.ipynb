{
  "nbformat": 4,
  "nbformat_minor": 0,
  "metadata": {
    "colab": {
      "name": "Pokemon Stat Analysis with Multiple Regression .ipynb",
      "provenance": [],
      "collapsed_sections": [],
      "authorship_tag": "ABX9TyOvKV0xsciAQuMZM48UbUF2",
      "include_colab_link": true
    },
    "kernelspec": {
      "name": "python3",
      "display_name": "Python 3"
    },
    "language_info": {
      "name": "python"
    }
  },
  "cells": [
    {
      "cell_type": "markdown",
      "metadata": {
        "id": "view-in-github",
        "colab_type": "text"
      },
      "source": [
        "<a href=\"https://colab.research.google.com/github/Vignesh424/Bright-Spots/blob/main/Pokemon_Stat_Analysis_with_Multiple_Regression_.ipynb\" target=\"_parent\"><img src=\"https://colab.research.google.com/assets/colab-badge.svg\" alt=\"Open In Colab\"/></a>"
      ]
    },
    {
      "cell_type": "code",
      "metadata": {
        "id": "DVVAOSyvxL5O"
      },
      "source": [
        "#import libraries\n",
        "import numpy as np\n",
        "import pandas as pd\n",
        "%matplotlib inline\n",
        "import seaborn as sns\n",
        "import matplotlib.pyplot as plt\n",
        "plt.style.use('fivethirtyeight')"
      ],
      "execution_count": null,
      "outputs": []
    },
    {
      "cell_type": "code",
      "metadata": {
        "id": "rZ2QlgV0xlV4"
      },
      "source": [
        "#read the data\n",
        "dataset=pd.read_csv(\"/content/pokedex_(Update_05.20).csv\")"
      ],
      "execution_count": null,
      "outputs": []
    },
    {
      "cell_type": "code",
      "metadata": {
        "colab": {
          "base_uri": "https://localhost:8080/"
        },
        "id": "9lvYQIhQf62p",
        "outputId": "72e29164-ad8b-480c-c1f4-1659dc5bfa05"
      },
      "source": [
        "#null values\n",
        "dataset.isnull().sum()\n",
        "dataset.isnull().any()"
      ],
      "execution_count": null,
      "outputs": [
        {
          "output_type": "execute_result",
          "data": {
            "text/plain": [
              "Unnamed: 0          False\n",
              "pokedex_number      False\n",
              "name                False\n",
              "german_name          True\n",
              "japanese_name        True\n",
              "generation          False\n",
              "status              False\n",
              "species             False\n",
              "type_number         False\n",
              "type_1              False\n",
              "type_2               True\n",
              "height_m            False\n",
              "weight_kg            True\n",
              "abilities_number    False\n",
              "ability_1            True\n",
              "ability_2            True\n",
              "ability_hidden       True\n",
              "total_points        False\n",
              "hp                  False\n",
              "attack              False\n",
              "defense             False\n",
              "sp_attack           False\n",
              "sp_defense          False\n",
              "speed               False\n",
              "catch_rate           True\n",
              "base_friendship      True\n",
              "base_experience      True\n",
              "growth_rate          True\n",
              "egg_type_number     False\n",
              "egg_type_1           True\n",
              "egg_type_2           True\n",
              "percentage_male      True\n",
              "egg_cycles           True\n",
              "against_normal      False\n",
              "against_fire        False\n",
              "against_water       False\n",
              "against_electric    False\n",
              "against_grass       False\n",
              "against_ice         False\n",
              "against_fight       False\n",
              "against_poison      False\n",
              "against_ground      False\n",
              "against_flying      False\n",
              "against_psychic     False\n",
              "against_bug         False\n",
              "against_rock        False\n",
              "against_ghost       False\n",
              "against_dragon      False\n",
              "against_dark        False\n",
              "against_steel       False\n",
              "against_fairy       False\n",
              "dtype: bool"
            ]
          },
          "metadata": {
            "tags": []
          },
          "execution_count": 122
        }
      ]
    },
    {
      "cell_type": "code",
      "metadata": {
        "colab": {
          "base_uri": "https://localhost:8080/",
          "height": 317
        },
        "id": "GlGbFU63xr-d",
        "outputId": "3b8406aa-aa22-4ac6-d13f-55f9d8381c29"
      },
      "source": [
        "#data description\n",
        "dataset.describe()"
      ],
      "execution_count": null,
      "outputs": [
        {
          "output_type": "execute_result",
          "data": {
            "text/html": [
              "<div>\n",
              "<style scoped>\n",
              "    .dataframe tbody tr th:only-of-type {\n",
              "        vertical-align: middle;\n",
              "    }\n",
              "\n",
              "    .dataframe tbody tr th {\n",
              "        vertical-align: top;\n",
              "    }\n",
              "\n",
              "    .dataframe thead th {\n",
              "        text-align: right;\n",
              "    }\n",
              "</style>\n",
              "<table border=\"1\" class=\"dataframe\">\n",
              "  <thead>\n",
              "    <tr style=\"text-align: right;\">\n",
              "      <th></th>\n",
              "      <th>Unnamed: 0</th>\n",
              "      <th>pokedex_number</th>\n",
              "      <th>generation</th>\n",
              "      <th>type_number</th>\n",
              "      <th>height_m</th>\n",
              "      <th>weight_kg</th>\n",
              "      <th>abilities_number</th>\n",
              "      <th>total_points</th>\n",
              "      <th>hp</th>\n",
              "      <th>attack</th>\n",
              "      <th>defense</th>\n",
              "      <th>sp_attack</th>\n",
              "      <th>sp_defense</th>\n",
              "      <th>speed</th>\n",
              "      <th>catch_rate</th>\n",
              "      <th>base_friendship</th>\n",
              "      <th>base_experience</th>\n",
              "      <th>egg_type_number</th>\n",
              "      <th>percentage_male</th>\n",
              "      <th>egg_cycles</th>\n",
              "      <th>against_normal</th>\n",
              "      <th>against_fire</th>\n",
              "      <th>against_water</th>\n",
              "      <th>against_electric</th>\n",
              "      <th>against_grass</th>\n",
              "      <th>against_ice</th>\n",
              "      <th>against_fight</th>\n",
              "      <th>against_poison</th>\n",
              "      <th>against_ground</th>\n",
              "      <th>against_flying</th>\n",
              "      <th>against_psychic</th>\n",
              "      <th>against_bug</th>\n",
              "      <th>against_rock</th>\n",
              "      <th>against_ghost</th>\n",
              "      <th>against_dragon</th>\n",
              "      <th>against_dark</th>\n",
              "      <th>against_steel</th>\n",
              "      <th>against_fairy</th>\n",
              "    </tr>\n",
              "  </thead>\n",
              "  <tbody>\n",
              "    <tr>\n",
              "      <th>count</th>\n",
              "      <td>1028.000000</td>\n",
              "      <td>1028.000000</td>\n",
              "      <td>1028.000000</td>\n",
              "      <td>1028.000000</td>\n",
              "      <td>1028.000000</td>\n",
              "      <td>1027.000000</td>\n",
              "      <td>1028.000000</td>\n",
              "      <td>1028.000000</td>\n",
              "      <td>1028.000000</td>\n",
              "      <td>1028.000000</td>\n",
              "      <td>1028.000000</td>\n",
              "      <td>1028.000000</td>\n",
              "      <td>1028.000000</td>\n",
              "      <td>1028.000000</td>\n",
              "      <td>924.000000</td>\n",
              "      <td>924.000000</td>\n",
              "      <td>924.000000</td>\n",
              "      <td>1028.000000</td>\n",
              "      <td>792.000000</td>\n",
              "      <td>1027.000000</td>\n",
              "      <td>1028.000000</td>\n",
              "      <td>1028.000000</td>\n",
              "      <td>1028.000000</td>\n",
              "      <td>1028.000000</td>\n",
              "      <td>1028.000000</td>\n",
              "      <td>1028.000000</td>\n",
              "      <td>1028.000000</td>\n",
              "      <td>1028.000000</td>\n",
              "      <td>1028.000000</td>\n",
              "      <td>1028.000000</td>\n",
              "      <td>1028.000000</td>\n",
              "      <td>1028.000000</td>\n",
              "      <td>1028.000000</td>\n",
              "      <td>1028.000000</td>\n",
              "      <td>1028.000000</td>\n",
              "      <td>1028.000000</td>\n",
              "      <td>1028.000000</td>\n",
              "      <td>1028.000000</td>\n",
              "    </tr>\n",
              "    <tr>\n",
              "      <th>mean</th>\n",
              "      <td>513.500000</td>\n",
              "      <td>437.711089</td>\n",
              "      <td>4.034047</td>\n",
              "      <td>1.527237</td>\n",
              "      <td>1.368093</td>\n",
              "      <td>69.753749</td>\n",
              "      <td>2.284047</td>\n",
              "      <td>437.571984</td>\n",
              "      <td>69.577821</td>\n",
              "      <td>80.119650</td>\n",
              "      <td>74.475681</td>\n",
              "      <td>72.732490</td>\n",
              "      <td>72.132296</td>\n",
              "      <td>68.534047</td>\n",
              "      <td>93.172078</td>\n",
              "      <td>64.139610</td>\n",
              "      <td>153.814935</td>\n",
              "      <td>1.271401</td>\n",
              "      <td>55.003157</td>\n",
              "      <td>30.316456</td>\n",
              "      <td>0.868434</td>\n",
              "      <td>1.125486</td>\n",
              "      <td>1.053502</td>\n",
              "      <td>1.034290</td>\n",
              "      <td>1.004134</td>\n",
              "      <td>1.196498</td>\n",
              "      <td>1.078794</td>\n",
              "      <td>0.952335</td>\n",
              "      <td>1.084630</td>\n",
              "      <td>1.166342</td>\n",
              "      <td>0.979329</td>\n",
              "      <td>0.992461</td>\n",
              "      <td>1.239786</td>\n",
              "      <td>1.010700</td>\n",
              "      <td>0.975681</td>\n",
              "      <td>1.065661</td>\n",
              "      <td>0.980302</td>\n",
              "      <td>1.084874</td>\n",
              "    </tr>\n",
              "    <tr>\n",
              "      <th>std</th>\n",
              "      <td>296.902341</td>\n",
              "      <td>259.366480</td>\n",
              "      <td>2.234937</td>\n",
              "      <td>0.499501</td>\n",
              "      <td>3.380126</td>\n",
              "      <td>129.221230</td>\n",
              "      <td>0.794981</td>\n",
              "      <td>121.664910</td>\n",
              "      <td>26.385849</td>\n",
              "      <td>32.372321</td>\n",
              "      <td>31.303309</td>\n",
              "      <td>32.677698</td>\n",
              "      <td>28.083684</td>\n",
              "      <td>29.802103</td>\n",
              "      <td>75.240630</td>\n",
              "      <td>21.455464</td>\n",
              "      <td>79.270628</td>\n",
              "      <td>0.451417</td>\n",
              "      <td>20.182675</td>\n",
              "      <td>28.942912</td>\n",
              "      <td>0.286236</td>\n",
              "      <td>0.717742</td>\n",
              "      <td>0.613411</td>\n",
              "      <td>0.645167</td>\n",
              "      <td>0.748527</td>\n",
              "      <td>0.759471</td>\n",
              "      <td>0.754969</td>\n",
              "      <td>0.542982</td>\n",
              "      <td>0.784937</td>\n",
              "      <td>0.593030</td>\n",
              "      <td>0.499146</td>\n",
              "      <td>0.598301</td>\n",
              "      <td>0.699156</td>\n",
              "      <td>0.558533</td>\n",
              "      <td>0.377549</td>\n",
              "      <td>0.451054</td>\n",
              "      <td>0.503434</td>\n",
              "      <td>0.527743</td>\n",
              "    </tr>\n",
              "    <tr>\n",
              "      <th>min</th>\n",
              "      <td>0.000000</td>\n",
              "      <td>1.000000</td>\n",
              "      <td>1.000000</td>\n",
              "      <td>1.000000</td>\n",
              "      <td>0.100000</td>\n",
              "      <td>0.100000</td>\n",
              "      <td>0.000000</td>\n",
              "      <td>175.000000</td>\n",
              "      <td>1.000000</td>\n",
              "      <td>5.000000</td>\n",
              "      <td>5.000000</td>\n",
              "      <td>10.000000</td>\n",
              "      <td>20.000000</td>\n",
              "      <td>5.000000</td>\n",
              "      <td>3.000000</td>\n",
              "      <td>0.000000</td>\n",
              "      <td>36.000000</td>\n",
              "      <td>0.000000</td>\n",
              "      <td>0.000000</td>\n",
              "      <td>5.000000</td>\n",
              "      <td>0.000000</td>\n",
              "      <td>0.000000</td>\n",
              "      <td>0.000000</td>\n",
              "      <td>0.000000</td>\n",
              "      <td>0.000000</td>\n",
              "      <td>0.000000</td>\n",
              "      <td>0.000000</td>\n",
              "      <td>0.000000</td>\n",
              "      <td>0.000000</td>\n",
              "      <td>0.250000</td>\n",
              "      <td>0.000000</td>\n",
              "      <td>0.000000</td>\n",
              "      <td>0.250000</td>\n",
              "      <td>0.000000</td>\n",
              "      <td>0.000000</td>\n",
              "      <td>0.250000</td>\n",
              "      <td>0.000000</td>\n",
              "      <td>0.000000</td>\n",
              "    </tr>\n",
              "    <tr>\n",
              "      <th>25%</th>\n",
              "      <td>256.750000</td>\n",
              "      <td>213.750000</td>\n",
              "      <td>2.000000</td>\n",
              "      <td>1.000000</td>\n",
              "      <td>0.600000</td>\n",
              "      <td>8.800000</td>\n",
              "      <td>2.000000</td>\n",
              "      <td>330.000000</td>\n",
              "      <td>50.000000</td>\n",
              "      <td>55.000000</td>\n",
              "      <td>50.000000</td>\n",
              "      <td>50.000000</td>\n",
              "      <td>50.000000</td>\n",
              "      <td>45.000000</td>\n",
              "      <td>45.000000</td>\n",
              "      <td>70.000000</td>\n",
              "      <td>67.000000</td>\n",
              "      <td>1.000000</td>\n",
              "      <td>50.000000</td>\n",
              "      <td>20.000000</td>\n",
              "      <td>1.000000</td>\n",
              "      <td>0.500000</td>\n",
              "      <td>0.500000</td>\n",
              "      <td>0.500000</td>\n",
              "      <td>0.500000</td>\n",
              "      <td>0.500000</td>\n",
              "      <td>0.500000</td>\n",
              "      <td>0.500000</td>\n",
              "      <td>0.500000</td>\n",
              "      <td>1.000000</td>\n",
              "      <td>1.000000</td>\n",
              "      <td>0.500000</td>\n",
              "      <td>1.000000</td>\n",
              "      <td>1.000000</td>\n",
              "      <td>1.000000</td>\n",
              "      <td>1.000000</td>\n",
              "      <td>0.500000</td>\n",
              "      <td>1.000000</td>\n",
              "    </tr>\n",
              "    <tr>\n",
              "      <th>50%</th>\n",
              "      <td>513.500000</td>\n",
              "      <td>433.500000</td>\n",
              "      <td>4.000000</td>\n",
              "      <td>2.000000</td>\n",
              "      <td>1.000000</td>\n",
              "      <td>28.500000</td>\n",
              "      <td>2.000000</td>\n",
              "      <td>455.000000</td>\n",
              "      <td>66.500000</td>\n",
              "      <td>76.000000</td>\n",
              "      <td>70.000000</td>\n",
              "      <td>65.000000</td>\n",
              "      <td>70.000000</td>\n",
              "      <td>65.000000</td>\n",
              "      <td>60.000000</td>\n",
              "      <td>70.000000</td>\n",
              "      <td>159.000000</td>\n",
              "      <td>1.000000</td>\n",
              "      <td>50.000000</td>\n",
              "      <td>20.000000</td>\n",
              "      <td>1.000000</td>\n",
              "      <td>1.000000</td>\n",
              "      <td>1.000000</td>\n",
              "      <td>1.000000</td>\n",
              "      <td>1.000000</td>\n",
              "      <td>1.000000</td>\n",
              "      <td>1.000000</td>\n",
              "      <td>1.000000</td>\n",
              "      <td>1.000000</td>\n",
              "      <td>1.000000</td>\n",
              "      <td>1.000000</td>\n",
              "      <td>1.000000</td>\n",
              "      <td>1.000000</td>\n",
              "      <td>1.000000</td>\n",
              "      <td>1.000000</td>\n",
              "      <td>1.000000</td>\n",
              "      <td>1.000000</td>\n",
              "      <td>1.000000</td>\n",
              "    </tr>\n",
              "    <tr>\n",
              "      <th>75%</th>\n",
              "      <td>770.250000</td>\n",
              "      <td>663.250000</td>\n",
              "      <td>6.000000</td>\n",
              "      <td>2.000000</td>\n",
              "      <td>1.500000</td>\n",
              "      <td>69.100000</td>\n",
              "      <td>3.000000</td>\n",
              "      <td>510.000000</td>\n",
              "      <td>80.000000</td>\n",
              "      <td>100.000000</td>\n",
              "      <td>90.000000</td>\n",
              "      <td>95.000000</td>\n",
              "      <td>90.000000</td>\n",
              "      <td>90.000000</td>\n",
              "      <td>127.000000</td>\n",
              "      <td>70.000000</td>\n",
              "      <td>201.500000</td>\n",
              "      <td>2.000000</td>\n",
              "      <td>50.000000</td>\n",
              "      <td>25.000000</td>\n",
              "      <td>1.000000</td>\n",
              "      <td>2.000000</td>\n",
              "      <td>1.000000</td>\n",
              "      <td>1.000000</td>\n",
              "      <td>1.000000</td>\n",
              "      <td>2.000000</td>\n",
              "      <td>2.000000</td>\n",
              "      <td>1.000000</td>\n",
              "      <td>1.625000</td>\n",
              "      <td>1.000000</td>\n",
              "      <td>1.000000</td>\n",
              "      <td>1.000000</td>\n",
              "      <td>2.000000</td>\n",
              "      <td>1.000000</td>\n",
              "      <td>1.000000</td>\n",
              "      <td>1.000000</td>\n",
              "      <td>1.000000</td>\n",
              "      <td>1.000000</td>\n",
              "    </tr>\n",
              "    <tr>\n",
              "      <th>max</th>\n",
              "      <td>1027.000000</td>\n",
              "      <td>890.000000</td>\n",
              "      <td>8.000000</td>\n",
              "      <td>2.000000</td>\n",
              "      <td>100.000000</td>\n",
              "      <td>999.900000</td>\n",
              "      <td>3.000000</td>\n",
              "      <td>1125.000000</td>\n",
              "      <td>255.000000</td>\n",
              "      <td>190.000000</td>\n",
              "      <td>250.000000</td>\n",
              "      <td>194.000000</td>\n",
              "      <td>250.000000</td>\n",
              "      <td>180.000000</td>\n",
              "      <td>255.000000</td>\n",
              "      <td>140.000000</td>\n",
              "      <td>608.000000</td>\n",
              "      <td>2.000000</td>\n",
              "      <td>100.000000</td>\n",
              "      <td>120.000000</td>\n",
              "      <td>1.000000</td>\n",
              "      <td>4.000000</td>\n",
              "      <td>4.000000</td>\n",
              "      <td>4.000000</td>\n",
              "      <td>4.000000</td>\n",
              "      <td>4.000000</td>\n",
              "      <td>4.000000</td>\n",
              "      <td>4.000000</td>\n",
              "      <td>4.000000</td>\n",
              "      <td>4.000000</td>\n",
              "      <td>4.000000</td>\n",
              "      <td>4.000000</td>\n",
              "      <td>4.000000</td>\n",
              "      <td>4.000000</td>\n",
              "      <td>2.000000</td>\n",
              "      <td>4.000000</td>\n",
              "      <td>4.000000</td>\n",
              "      <td>4.000000</td>\n",
              "    </tr>\n",
              "  </tbody>\n",
              "</table>\n",
              "</div>"
            ],
            "text/plain": [
              "        Unnamed: 0  pokedex_number  ...  against_steel  against_fairy\n",
              "count  1028.000000     1028.000000  ...    1028.000000    1028.000000\n",
              "mean    513.500000      437.711089  ...       0.980302       1.084874\n",
              "std     296.902341      259.366480  ...       0.503434       0.527743\n",
              "min       0.000000        1.000000  ...       0.000000       0.000000\n",
              "25%     256.750000      213.750000  ...       0.500000       1.000000\n",
              "50%     513.500000      433.500000  ...       1.000000       1.000000\n",
              "75%     770.250000      663.250000  ...       1.000000       1.000000\n",
              "max    1027.000000      890.000000  ...       4.000000       4.000000\n",
              "\n",
              "[8 rows x 38 columns]"
            ]
          },
          "metadata": {
            "tags": []
          },
          "execution_count": 123
        }
      ]
    },
    {
      "cell_type": "code",
      "metadata": {
        "id": "vHdLyBrNxudt",
        "colab": {
          "base_uri": "https://localhost:8080/",
          "height": 326
        },
        "outputId": "05c5a057-5436-41b3-967e-9f4cdea691ee"
      },
      "source": [
        "#first 5 printing\n",
        "dataset.head()"
      ],
      "execution_count": null,
      "outputs": [
        {
          "output_type": "execute_result",
          "data": {
            "text/html": [
              "<div>\n",
              "<style scoped>\n",
              "    .dataframe tbody tr th:only-of-type {\n",
              "        vertical-align: middle;\n",
              "    }\n",
              "\n",
              "    .dataframe tbody tr th {\n",
              "        vertical-align: top;\n",
              "    }\n",
              "\n",
              "    .dataframe thead th {\n",
              "        text-align: right;\n",
              "    }\n",
              "</style>\n",
              "<table border=\"1\" class=\"dataframe\">\n",
              "  <thead>\n",
              "    <tr style=\"text-align: right;\">\n",
              "      <th></th>\n",
              "      <th>Unnamed: 0</th>\n",
              "      <th>pokedex_number</th>\n",
              "      <th>name</th>\n",
              "      <th>german_name</th>\n",
              "      <th>japanese_name</th>\n",
              "      <th>generation</th>\n",
              "      <th>status</th>\n",
              "      <th>species</th>\n",
              "      <th>type_number</th>\n",
              "      <th>type_1</th>\n",
              "      <th>type_2</th>\n",
              "      <th>height_m</th>\n",
              "      <th>weight_kg</th>\n",
              "      <th>abilities_number</th>\n",
              "      <th>ability_1</th>\n",
              "      <th>ability_2</th>\n",
              "      <th>ability_hidden</th>\n",
              "      <th>total_points</th>\n",
              "      <th>hp</th>\n",
              "      <th>attack</th>\n",
              "      <th>defense</th>\n",
              "      <th>sp_attack</th>\n",
              "      <th>sp_defense</th>\n",
              "      <th>speed</th>\n",
              "      <th>catch_rate</th>\n",
              "      <th>base_friendship</th>\n",
              "      <th>base_experience</th>\n",
              "      <th>growth_rate</th>\n",
              "      <th>egg_type_number</th>\n",
              "      <th>egg_type_1</th>\n",
              "      <th>egg_type_2</th>\n",
              "      <th>percentage_male</th>\n",
              "      <th>egg_cycles</th>\n",
              "      <th>against_normal</th>\n",
              "      <th>against_fire</th>\n",
              "      <th>against_water</th>\n",
              "      <th>against_electric</th>\n",
              "      <th>against_grass</th>\n",
              "      <th>against_ice</th>\n",
              "      <th>against_fight</th>\n",
              "      <th>against_poison</th>\n",
              "      <th>against_ground</th>\n",
              "      <th>against_flying</th>\n",
              "      <th>against_psychic</th>\n",
              "      <th>against_bug</th>\n",
              "      <th>against_rock</th>\n",
              "      <th>against_ghost</th>\n",
              "      <th>against_dragon</th>\n",
              "      <th>against_dark</th>\n",
              "      <th>against_steel</th>\n",
              "      <th>against_fairy</th>\n",
              "    </tr>\n",
              "  </thead>\n",
              "  <tbody>\n",
              "    <tr>\n",
              "      <th>0</th>\n",
              "      <td>0</td>\n",
              "      <td>1</td>\n",
              "      <td>Bulbasaur</td>\n",
              "      <td>Bisasam</td>\n",
              "      <td>フシギダネ (Fushigidane)</td>\n",
              "      <td>1</td>\n",
              "      <td>Normal</td>\n",
              "      <td>Seed Pokémon</td>\n",
              "      <td>2</td>\n",
              "      <td>Grass</td>\n",
              "      <td>Poison</td>\n",
              "      <td>0.7</td>\n",
              "      <td>6.9</td>\n",
              "      <td>2</td>\n",
              "      <td>Overgrow</td>\n",
              "      <td>NaN</td>\n",
              "      <td>Chlorophyll</td>\n",
              "      <td>318</td>\n",
              "      <td>45</td>\n",
              "      <td>49</td>\n",
              "      <td>49</td>\n",
              "      <td>65</td>\n",
              "      <td>65</td>\n",
              "      <td>45</td>\n",
              "      <td>45.0</td>\n",
              "      <td>70.0</td>\n",
              "      <td>64.0</td>\n",
              "      <td>Medium Slow</td>\n",
              "      <td>2</td>\n",
              "      <td>Grass</td>\n",
              "      <td>Monster</td>\n",
              "      <td>87.5</td>\n",
              "      <td>20.0</td>\n",
              "      <td>1.0</td>\n",
              "      <td>2.0</td>\n",
              "      <td>0.5</td>\n",
              "      <td>0.5</td>\n",
              "      <td>0.25</td>\n",
              "      <td>2.0</td>\n",
              "      <td>0.5</td>\n",
              "      <td>1.0</td>\n",
              "      <td>1.0</td>\n",
              "      <td>2.0</td>\n",
              "      <td>2.0</td>\n",
              "      <td>1.0</td>\n",
              "      <td>1.0</td>\n",
              "      <td>1.0</td>\n",
              "      <td>1.0</td>\n",
              "      <td>1.0</td>\n",
              "      <td>1.0</td>\n",
              "      <td>0.5</td>\n",
              "    </tr>\n",
              "    <tr>\n",
              "      <th>1</th>\n",
              "      <td>1</td>\n",
              "      <td>2</td>\n",
              "      <td>Ivysaur</td>\n",
              "      <td>Bisaknosp</td>\n",
              "      <td>フシギソウ (Fushigisou)</td>\n",
              "      <td>1</td>\n",
              "      <td>Normal</td>\n",
              "      <td>Seed Pokémon</td>\n",
              "      <td>2</td>\n",
              "      <td>Grass</td>\n",
              "      <td>Poison</td>\n",
              "      <td>1.0</td>\n",
              "      <td>13.0</td>\n",
              "      <td>2</td>\n",
              "      <td>Overgrow</td>\n",
              "      <td>NaN</td>\n",
              "      <td>Chlorophyll</td>\n",
              "      <td>405</td>\n",
              "      <td>60</td>\n",
              "      <td>62</td>\n",
              "      <td>63</td>\n",
              "      <td>80</td>\n",
              "      <td>80</td>\n",
              "      <td>60</td>\n",
              "      <td>45.0</td>\n",
              "      <td>70.0</td>\n",
              "      <td>142.0</td>\n",
              "      <td>Medium Slow</td>\n",
              "      <td>2</td>\n",
              "      <td>Grass</td>\n",
              "      <td>Monster</td>\n",
              "      <td>87.5</td>\n",
              "      <td>20.0</td>\n",
              "      <td>1.0</td>\n",
              "      <td>2.0</td>\n",
              "      <td>0.5</td>\n",
              "      <td>0.5</td>\n",
              "      <td>0.25</td>\n",
              "      <td>2.0</td>\n",
              "      <td>0.5</td>\n",
              "      <td>1.0</td>\n",
              "      <td>1.0</td>\n",
              "      <td>2.0</td>\n",
              "      <td>2.0</td>\n",
              "      <td>1.0</td>\n",
              "      <td>1.0</td>\n",
              "      <td>1.0</td>\n",
              "      <td>1.0</td>\n",
              "      <td>1.0</td>\n",
              "      <td>1.0</td>\n",
              "      <td>0.5</td>\n",
              "    </tr>\n",
              "    <tr>\n",
              "      <th>2</th>\n",
              "      <td>2</td>\n",
              "      <td>3</td>\n",
              "      <td>Venusaur</td>\n",
              "      <td>Bisaflor</td>\n",
              "      <td>フシギバナ (Fushigibana)</td>\n",
              "      <td>1</td>\n",
              "      <td>Normal</td>\n",
              "      <td>Seed Pokémon</td>\n",
              "      <td>2</td>\n",
              "      <td>Grass</td>\n",
              "      <td>Poison</td>\n",
              "      <td>2.0</td>\n",
              "      <td>100.0</td>\n",
              "      <td>2</td>\n",
              "      <td>Overgrow</td>\n",
              "      <td>NaN</td>\n",
              "      <td>Chlorophyll</td>\n",
              "      <td>525</td>\n",
              "      <td>80</td>\n",
              "      <td>82</td>\n",
              "      <td>83</td>\n",
              "      <td>100</td>\n",
              "      <td>100</td>\n",
              "      <td>80</td>\n",
              "      <td>45.0</td>\n",
              "      <td>70.0</td>\n",
              "      <td>236.0</td>\n",
              "      <td>Medium Slow</td>\n",
              "      <td>2</td>\n",
              "      <td>Grass</td>\n",
              "      <td>Monster</td>\n",
              "      <td>87.5</td>\n",
              "      <td>20.0</td>\n",
              "      <td>1.0</td>\n",
              "      <td>2.0</td>\n",
              "      <td>0.5</td>\n",
              "      <td>0.5</td>\n",
              "      <td>0.25</td>\n",
              "      <td>2.0</td>\n",
              "      <td>0.5</td>\n",
              "      <td>1.0</td>\n",
              "      <td>1.0</td>\n",
              "      <td>2.0</td>\n",
              "      <td>2.0</td>\n",
              "      <td>1.0</td>\n",
              "      <td>1.0</td>\n",
              "      <td>1.0</td>\n",
              "      <td>1.0</td>\n",
              "      <td>1.0</td>\n",
              "      <td>1.0</td>\n",
              "      <td>0.5</td>\n",
              "    </tr>\n",
              "    <tr>\n",
              "      <th>3</th>\n",
              "      <td>3</td>\n",
              "      <td>3</td>\n",
              "      <td>Mega Venusaur</td>\n",
              "      <td>Bisaflor</td>\n",
              "      <td>フシギバナ (Fushigibana)</td>\n",
              "      <td>1</td>\n",
              "      <td>Normal</td>\n",
              "      <td>Seed Pokémon</td>\n",
              "      <td>2</td>\n",
              "      <td>Grass</td>\n",
              "      <td>Poison</td>\n",
              "      <td>2.4</td>\n",
              "      <td>155.5</td>\n",
              "      <td>1</td>\n",
              "      <td>Thick Fat</td>\n",
              "      <td>NaN</td>\n",
              "      <td>NaN</td>\n",
              "      <td>625</td>\n",
              "      <td>80</td>\n",
              "      <td>100</td>\n",
              "      <td>123</td>\n",
              "      <td>122</td>\n",
              "      <td>120</td>\n",
              "      <td>80</td>\n",
              "      <td>45.0</td>\n",
              "      <td>70.0</td>\n",
              "      <td>281.0</td>\n",
              "      <td>Medium Slow</td>\n",
              "      <td>2</td>\n",
              "      <td>Grass</td>\n",
              "      <td>Monster</td>\n",
              "      <td>87.5</td>\n",
              "      <td>20.0</td>\n",
              "      <td>1.0</td>\n",
              "      <td>1.0</td>\n",
              "      <td>0.5</td>\n",
              "      <td>0.5</td>\n",
              "      <td>0.25</td>\n",
              "      <td>1.0</td>\n",
              "      <td>0.5</td>\n",
              "      <td>1.0</td>\n",
              "      <td>1.0</td>\n",
              "      <td>2.0</td>\n",
              "      <td>2.0</td>\n",
              "      <td>1.0</td>\n",
              "      <td>1.0</td>\n",
              "      <td>1.0</td>\n",
              "      <td>1.0</td>\n",
              "      <td>1.0</td>\n",
              "      <td>1.0</td>\n",
              "      <td>0.5</td>\n",
              "    </tr>\n",
              "    <tr>\n",
              "      <th>4</th>\n",
              "      <td>4</td>\n",
              "      <td>4</td>\n",
              "      <td>Charmander</td>\n",
              "      <td>Glumanda</td>\n",
              "      <td>ヒトカゲ (Hitokage)</td>\n",
              "      <td>1</td>\n",
              "      <td>Normal</td>\n",
              "      <td>Lizard Pokémon</td>\n",
              "      <td>1</td>\n",
              "      <td>Fire</td>\n",
              "      <td>NaN</td>\n",
              "      <td>0.6</td>\n",
              "      <td>8.5</td>\n",
              "      <td>2</td>\n",
              "      <td>Blaze</td>\n",
              "      <td>NaN</td>\n",
              "      <td>Solar Power</td>\n",
              "      <td>309</td>\n",
              "      <td>39</td>\n",
              "      <td>52</td>\n",
              "      <td>43</td>\n",
              "      <td>60</td>\n",
              "      <td>50</td>\n",
              "      <td>65</td>\n",
              "      <td>45.0</td>\n",
              "      <td>70.0</td>\n",
              "      <td>62.0</td>\n",
              "      <td>Medium Slow</td>\n",
              "      <td>2</td>\n",
              "      <td>Dragon</td>\n",
              "      <td>Monster</td>\n",
              "      <td>87.5</td>\n",
              "      <td>20.0</td>\n",
              "      <td>1.0</td>\n",
              "      <td>0.5</td>\n",
              "      <td>2.0</td>\n",
              "      <td>1.0</td>\n",
              "      <td>0.50</td>\n",
              "      <td>0.5</td>\n",
              "      <td>1.0</td>\n",
              "      <td>1.0</td>\n",
              "      <td>2.0</td>\n",
              "      <td>1.0</td>\n",
              "      <td>1.0</td>\n",
              "      <td>0.5</td>\n",
              "      <td>2.0</td>\n",
              "      <td>1.0</td>\n",
              "      <td>1.0</td>\n",
              "      <td>1.0</td>\n",
              "      <td>0.5</td>\n",
              "      <td>0.5</td>\n",
              "    </tr>\n",
              "  </tbody>\n",
              "</table>\n",
              "</div>"
            ],
            "text/plain": [
              "   Unnamed: 0  pokedex_number  ... against_steel against_fairy\n",
              "0           0               1  ...           1.0           0.5\n",
              "1           1               2  ...           1.0           0.5\n",
              "2           2               3  ...           1.0           0.5\n",
              "3           3               3  ...           1.0           0.5\n",
              "4           4               4  ...           0.5           0.5\n",
              "\n",
              "[5 rows x 51 columns]"
            ]
          },
          "metadata": {
            "tags": []
          },
          "execution_count": 124
        }
      ]
    },
    {
      "cell_type": "code",
      "metadata": {
        "colab": {
          "base_uri": "https://localhost:8080/"
        },
        "id": "k3sCrDg2gMjW",
        "outputId": "c371a462-ea58-4d02-84f5-727caef13170"
      },
      "source": [
        "dataset.index"
      ],
      "execution_count": null,
      "outputs": [
        {
          "output_type": "execute_result",
          "data": {
            "text/plain": [
              "RangeIndex(start=0, stop=1028, step=1)"
            ]
          },
          "metadata": {
            "tags": []
          },
          "execution_count": 125
        }
      ]
    },
    {
      "cell_type": "code",
      "metadata": {
        "colab": {
          "base_uri": "https://localhost:8080/",
          "height": 309
        },
        "id": "nR5z-tjvhVtw",
        "outputId": "1c42e055-6735-4e76-fabe-c35e2771bb2b"
      },
      "source": [
        "#data = data.fillna(method='ffill')\n",
        "dataset=dataset.drop(\"Unnamed: 0\" ,axis=1)\n",
        "dataset.head()"
      ],
      "execution_count": null,
      "outputs": [
        {
          "output_type": "execute_result",
          "data": {
            "text/html": [
              "<div>\n",
              "<style scoped>\n",
              "    .dataframe tbody tr th:only-of-type {\n",
              "        vertical-align: middle;\n",
              "    }\n",
              "\n",
              "    .dataframe tbody tr th {\n",
              "        vertical-align: top;\n",
              "    }\n",
              "\n",
              "    .dataframe thead th {\n",
              "        text-align: right;\n",
              "    }\n",
              "</style>\n",
              "<table border=\"1\" class=\"dataframe\">\n",
              "  <thead>\n",
              "    <tr style=\"text-align: right;\">\n",
              "      <th></th>\n",
              "      <th>pokedex_number</th>\n",
              "      <th>name</th>\n",
              "      <th>german_name</th>\n",
              "      <th>japanese_name</th>\n",
              "      <th>generation</th>\n",
              "      <th>status</th>\n",
              "      <th>species</th>\n",
              "      <th>type_number</th>\n",
              "      <th>type_1</th>\n",
              "      <th>type_2</th>\n",
              "      <th>height_m</th>\n",
              "      <th>weight_kg</th>\n",
              "      <th>abilities_number</th>\n",
              "      <th>ability_1</th>\n",
              "      <th>ability_2</th>\n",
              "      <th>ability_hidden</th>\n",
              "      <th>total_points</th>\n",
              "      <th>hp</th>\n",
              "      <th>attack</th>\n",
              "      <th>defense</th>\n",
              "      <th>sp_attack</th>\n",
              "      <th>sp_defense</th>\n",
              "      <th>speed</th>\n",
              "      <th>catch_rate</th>\n",
              "      <th>base_friendship</th>\n",
              "      <th>base_experience</th>\n",
              "      <th>growth_rate</th>\n",
              "      <th>egg_type_number</th>\n",
              "      <th>egg_type_1</th>\n",
              "      <th>egg_type_2</th>\n",
              "      <th>percentage_male</th>\n",
              "      <th>egg_cycles</th>\n",
              "      <th>against_normal</th>\n",
              "      <th>against_fire</th>\n",
              "      <th>against_water</th>\n",
              "      <th>against_electric</th>\n",
              "      <th>against_grass</th>\n",
              "      <th>against_ice</th>\n",
              "      <th>against_fight</th>\n",
              "      <th>against_poison</th>\n",
              "      <th>against_ground</th>\n",
              "      <th>against_flying</th>\n",
              "      <th>against_psychic</th>\n",
              "      <th>against_bug</th>\n",
              "      <th>against_rock</th>\n",
              "      <th>against_ghost</th>\n",
              "      <th>against_dragon</th>\n",
              "      <th>against_dark</th>\n",
              "      <th>against_steel</th>\n",
              "      <th>against_fairy</th>\n",
              "    </tr>\n",
              "  </thead>\n",
              "  <tbody>\n",
              "    <tr>\n",
              "      <th>0</th>\n",
              "      <td>1</td>\n",
              "      <td>Bulbasaur</td>\n",
              "      <td>Bisasam</td>\n",
              "      <td>フシギダネ (Fushigidane)</td>\n",
              "      <td>1</td>\n",
              "      <td>Normal</td>\n",
              "      <td>Seed Pokémon</td>\n",
              "      <td>2</td>\n",
              "      <td>Grass</td>\n",
              "      <td>Poison</td>\n",
              "      <td>0.7</td>\n",
              "      <td>6.9</td>\n",
              "      <td>2</td>\n",
              "      <td>Overgrow</td>\n",
              "      <td>NaN</td>\n",
              "      <td>Chlorophyll</td>\n",
              "      <td>318</td>\n",
              "      <td>45</td>\n",
              "      <td>49</td>\n",
              "      <td>49</td>\n",
              "      <td>65</td>\n",
              "      <td>65</td>\n",
              "      <td>45</td>\n",
              "      <td>45.0</td>\n",
              "      <td>70.0</td>\n",
              "      <td>64.0</td>\n",
              "      <td>Medium Slow</td>\n",
              "      <td>2</td>\n",
              "      <td>Grass</td>\n",
              "      <td>Monster</td>\n",
              "      <td>87.5</td>\n",
              "      <td>20.0</td>\n",
              "      <td>1.0</td>\n",
              "      <td>2.0</td>\n",
              "      <td>0.5</td>\n",
              "      <td>0.5</td>\n",
              "      <td>0.25</td>\n",
              "      <td>2.0</td>\n",
              "      <td>0.5</td>\n",
              "      <td>1.0</td>\n",
              "      <td>1.0</td>\n",
              "      <td>2.0</td>\n",
              "      <td>2.0</td>\n",
              "      <td>1.0</td>\n",
              "      <td>1.0</td>\n",
              "      <td>1.0</td>\n",
              "      <td>1.0</td>\n",
              "      <td>1.0</td>\n",
              "      <td>1.0</td>\n",
              "      <td>0.5</td>\n",
              "    </tr>\n",
              "    <tr>\n",
              "      <th>1</th>\n",
              "      <td>2</td>\n",
              "      <td>Ivysaur</td>\n",
              "      <td>Bisaknosp</td>\n",
              "      <td>フシギソウ (Fushigisou)</td>\n",
              "      <td>1</td>\n",
              "      <td>Normal</td>\n",
              "      <td>Seed Pokémon</td>\n",
              "      <td>2</td>\n",
              "      <td>Grass</td>\n",
              "      <td>Poison</td>\n",
              "      <td>1.0</td>\n",
              "      <td>13.0</td>\n",
              "      <td>2</td>\n",
              "      <td>Overgrow</td>\n",
              "      <td>NaN</td>\n",
              "      <td>Chlorophyll</td>\n",
              "      <td>405</td>\n",
              "      <td>60</td>\n",
              "      <td>62</td>\n",
              "      <td>63</td>\n",
              "      <td>80</td>\n",
              "      <td>80</td>\n",
              "      <td>60</td>\n",
              "      <td>45.0</td>\n",
              "      <td>70.0</td>\n",
              "      <td>142.0</td>\n",
              "      <td>Medium Slow</td>\n",
              "      <td>2</td>\n",
              "      <td>Grass</td>\n",
              "      <td>Monster</td>\n",
              "      <td>87.5</td>\n",
              "      <td>20.0</td>\n",
              "      <td>1.0</td>\n",
              "      <td>2.0</td>\n",
              "      <td>0.5</td>\n",
              "      <td>0.5</td>\n",
              "      <td>0.25</td>\n",
              "      <td>2.0</td>\n",
              "      <td>0.5</td>\n",
              "      <td>1.0</td>\n",
              "      <td>1.0</td>\n",
              "      <td>2.0</td>\n",
              "      <td>2.0</td>\n",
              "      <td>1.0</td>\n",
              "      <td>1.0</td>\n",
              "      <td>1.0</td>\n",
              "      <td>1.0</td>\n",
              "      <td>1.0</td>\n",
              "      <td>1.0</td>\n",
              "      <td>0.5</td>\n",
              "    </tr>\n",
              "    <tr>\n",
              "      <th>2</th>\n",
              "      <td>3</td>\n",
              "      <td>Venusaur</td>\n",
              "      <td>Bisaflor</td>\n",
              "      <td>フシギバナ (Fushigibana)</td>\n",
              "      <td>1</td>\n",
              "      <td>Normal</td>\n",
              "      <td>Seed Pokémon</td>\n",
              "      <td>2</td>\n",
              "      <td>Grass</td>\n",
              "      <td>Poison</td>\n",
              "      <td>2.0</td>\n",
              "      <td>100.0</td>\n",
              "      <td>2</td>\n",
              "      <td>Overgrow</td>\n",
              "      <td>NaN</td>\n",
              "      <td>Chlorophyll</td>\n",
              "      <td>525</td>\n",
              "      <td>80</td>\n",
              "      <td>82</td>\n",
              "      <td>83</td>\n",
              "      <td>100</td>\n",
              "      <td>100</td>\n",
              "      <td>80</td>\n",
              "      <td>45.0</td>\n",
              "      <td>70.0</td>\n",
              "      <td>236.0</td>\n",
              "      <td>Medium Slow</td>\n",
              "      <td>2</td>\n",
              "      <td>Grass</td>\n",
              "      <td>Monster</td>\n",
              "      <td>87.5</td>\n",
              "      <td>20.0</td>\n",
              "      <td>1.0</td>\n",
              "      <td>2.0</td>\n",
              "      <td>0.5</td>\n",
              "      <td>0.5</td>\n",
              "      <td>0.25</td>\n",
              "      <td>2.0</td>\n",
              "      <td>0.5</td>\n",
              "      <td>1.0</td>\n",
              "      <td>1.0</td>\n",
              "      <td>2.0</td>\n",
              "      <td>2.0</td>\n",
              "      <td>1.0</td>\n",
              "      <td>1.0</td>\n",
              "      <td>1.0</td>\n",
              "      <td>1.0</td>\n",
              "      <td>1.0</td>\n",
              "      <td>1.0</td>\n",
              "      <td>0.5</td>\n",
              "    </tr>\n",
              "    <tr>\n",
              "      <th>3</th>\n",
              "      <td>3</td>\n",
              "      <td>Mega Venusaur</td>\n",
              "      <td>Bisaflor</td>\n",
              "      <td>フシギバナ (Fushigibana)</td>\n",
              "      <td>1</td>\n",
              "      <td>Normal</td>\n",
              "      <td>Seed Pokémon</td>\n",
              "      <td>2</td>\n",
              "      <td>Grass</td>\n",
              "      <td>Poison</td>\n",
              "      <td>2.4</td>\n",
              "      <td>155.5</td>\n",
              "      <td>1</td>\n",
              "      <td>Thick Fat</td>\n",
              "      <td>NaN</td>\n",
              "      <td>NaN</td>\n",
              "      <td>625</td>\n",
              "      <td>80</td>\n",
              "      <td>100</td>\n",
              "      <td>123</td>\n",
              "      <td>122</td>\n",
              "      <td>120</td>\n",
              "      <td>80</td>\n",
              "      <td>45.0</td>\n",
              "      <td>70.0</td>\n",
              "      <td>281.0</td>\n",
              "      <td>Medium Slow</td>\n",
              "      <td>2</td>\n",
              "      <td>Grass</td>\n",
              "      <td>Monster</td>\n",
              "      <td>87.5</td>\n",
              "      <td>20.0</td>\n",
              "      <td>1.0</td>\n",
              "      <td>1.0</td>\n",
              "      <td>0.5</td>\n",
              "      <td>0.5</td>\n",
              "      <td>0.25</td>\n",
              "      <td>1.0</td>\n",
              "      <td>0.5</td>\n",
              "      <td>1.0</td>\n",
              "      <td>1.0</td>\n",
              "      <td>2.0</td>\n",
              "      <td>2.0</td>\n",
              "      <td>1.0</td>\n",
              "      <td>1.0</td>\n",
              "      <td>1.0</td>\n",
              "      <td>1.0</td>\n",
              "      <td>1.0</td>\n",
              "      <td>1.0</td>\n",
              "      <td>0.5</td>\n",
              "    </tr>\n",
              "    <tr>\n",
              "      <th>4</th>\n",
              "      <td>4</td>\n",
              "      <td>Charmander</td>\n",
              "      <td>Glumanda</td>\n",
              "      <td>ヒトカゲ (Hitokage)</td>\n",
              "      <td>1</td>\n",
              "      <td>Normal</td>\n",
              "      <td>Lizard Pokémon</td>\n",
              "      <td>1</td>\n",
              "      <td>Fire</td>\n",
              "      <td>NaN</td>\n",
              "      <td>0.6</td>\n",
              "      <td>8.5</td>\n",
              "      <td>2</td>\n",
              "      <td>Blaze</td>\n",
              "      <td>NaN</td>\n",
              "      <td>Solar Power</td>\n",
              "      <td>309</td>\n",
              "      <td>39</td>\n",
              "      <td>52</td>\n",
              "      <td>43</td>\n",
              "      <td>60</td>\n",
              "      <td>50</td>\n",
              "      <td>65</td>\n",
              "      <td>45.0</td>\n",
              "      <td>70.0</td>\n",
              "      <td>62.0</td>\n",
              "      <td>Medium Slow</td>\n",
              "      <td>2</td>\n",
              "      <td>Dragon</td>\n",
              "      <td>Monster</td>\n",
              "      <td>87.5</td>\n",
              "      <td>20.0</td>\n",
              "      <td>1.0</td>\n",
              "      <td>0.5</td>\n",
              "      <td>2.0</td>\n",
              "      <td>1.0</td>\n",
              "      <td>0.50</td>\n",
              "      <td>0.5</td>\n",
              "      <td>1.0</td>\n",
              "      <td>1.0</td>\n",
              "      <td>2.0</td>\n",
              "      <td>1.0</td>\n",
              "      <td>1.0</td>\n",
              "      <td>0.5</td>\n",
              "      <td>2.0</td>\n",
              "      <td>1.0</td>\n",
              "      <td>1.0</td>\n",
              "      <td>1.0</td>\n",
              "      <td>0.5</td>\n",
              "      <td>0.5</td>\n",
              "    </tr>\n",
              "  </tbody>\n",
              "</table>\n",
              "</div>"
            ],
            "text/plain": [
              "   pokedex_number           name  ... against_steel against_fairy\n",
              "0               1      Bulbasaur  ...           1.0           0.5\n",
              "1               2        Ivysaur  ...           1.0           0.5\n",
              "2               3       Venusaur  ...           1.0           0.5\n",
              "3               3  Mega Venusaur  ...           1.0           0.5\n",
              "4               4     Charmander  ...           0.5           0.5\n",
              "\n",
              "[5 rows x 50 columns]"
            ]
          },
          "metadata": {
            "tags": []
          },
          "execution_count": 126
        }
      ]
    },
    {
      "cell_type": "code",
      "metadata": {
        "id": "56Vyx7OIx0lE"
      },
      "source": [
        "#delete column and save as a new \n",
        "pokedex=dataset.drop(columns=['pokedex_number', 'german_name', 'abilities_number','height_m', 'weight_kg', \n",
        "                   'growth_rate','japanese_name', 'base_friendship', 'catch_rate','egg_type_number', 'ability_1',\n",
        "                   'ability_2',  'ability_hidden','egg_type_1', 'egg_type_2', 'percentage_male','egg_cycles' ,\n",
        "                   'against_normal', 'against_fire', 'against_water', 'against_electric', 'against_grass',\n",
        "                   'against_ice', 'against_fight', 'against_poison', 'against_ground', 'against_flying',\n",
        "                   'against_psychic', 'against_bug', 'against_rock', 'against_ghost', 'against_dragon',\n",
        "                   'against_dark', 'against_steel', 'against_fairy', 'species'])"
      ],
      "execution_count": null,
      "outputs": []
    },
    {
      "cell_type": "code",
      "metadata": {
        "colab": {
          "base_uri": "https://localhost:8080/",
          "height": 241
        },
        "id": "8SfQZ4a_zADF",
        "outputId": "92786ca4-cfc3-4642-b2e7-57efecf1e20d"
      },
      "source": [
        "#print first 5 of new\n",
        "pokedex.head()"
      ],
      "execution_count": null,
      "outputs": [
        {
          "output_type": "execute_result",
          "data": {
            "text/html": [
              "<div>\n",
              "<style scoped>\n",
              "    .dataframe tbody tr th:only-of-type {\n",
              "        vertical-align: middle;\n",
              "    }\n",
              "\n",
              "    .dataframe tbody tr th {\n",
              "        vertical-align: top;\n",
              "    }\n",
              "\n",
              "    .dataframe thead th {\n",
              "        text-align: right;\n",
              "    }\n",
              "</style>\n",
              "<table border=\"1\" class=\"dataframe\">\n",
              "  <thead>\n",
              "    <tr style=\"text-align: right;\">\n",
              "      <th></th>\n",
              "      <th>name</th>\n",
              "      <th>generation</th>\n",
              "      <th>status</th>\n",
              "      <th>type_number</th>\n",
              "      <th>type_1</th>\n",
              "      <th>type_2</th>\n",
              "      <th>total_points</th>\n",
              "      <th>hp</th>\n",
              "      <th>attack</th>\n",
              "      <th>defense</th>\n",
              "      <th>sp_attack</th>\n",
              "      <th>sp_defense</th>\n",
              "      <th>speed</th>\n",
              "      <th>base_experience</th>\n",
              "    </tr>\n",
              "  </thead>\n",
              "  <tbody>\n",
              "    <tr>\n",
              "      <th>0</th>\n",
              "      <td>Bulbasaur</td>\n",
              "      <td>1</td>\n",
              "      <td>Normal</td>\n",
              "      <td>2</td>\n",
              "      <td>Grass</td>\n",
              "      <td>Poison</td>\n",
              "      <td>318</td>\n",
              "      <td>45</td>\n",
              "      <td>49</td>\n",
              "      <td>49</td>\n",
              "      <td>65</td>\n",
              "      <td>65</td>\n",
              "      <td>45</td>\n",
              "      <td>64.0</td>\n",
              "    </tr>\n",
              "    <tr>\n",
              "      <th>1</th>\n",
              "      <td>Ivysaur</td>\n",
              "      <td>1</td>\n",
              "      <td>Normal</td>\n",
              "      <td>2</td>\n",
              "      <td>Grass</td>\n",
              "      <td>Poison</td>\n",
              "      <td>405</td>\n",
              "      <td>60</td>\n",
              "      <td>62</td>\n",
              "      <td>63</td>\n",
              "      <td>80</td>\n",
              "      <td>80</td>\n",
              "      <td>60</td>\n",
              "      <td>142.0</td>\n",
              "    </tr>\n",
              "    <tr>\n",
              "      <th>2</th>\n",
              "      <td>Venusaur</td>\n",
              "      <td>1</td>\n",
              "      <td>Normal</td>\n",
              "      <td>2</td>\n",
              "      <td>Grass</td>\n",
              "      <td>Poison</td>\n",
              "      <td>525</td>\n",
              "      <td>80</td>\n",
              "      <td>82</td>\n",
              "      <td>83</td>\n",
              "      <td>100</td>\n",
              "      <td>100</td>\n",
              "      <td>80</td>\n",
              "      <td>236.0</td>\n",
              "    </tr>\n",
              "    <tr>\n",
              "      <th>3</th>\n",
              "      <td>Mega Venusaur</td>\n",
              "      <td>1</td>\n",
              "      <td>Normal</td>\n",
              "      <td>2</td>\n",
              "      <td>Grass</td>\n",
              "      <td>Poison</td>\n",
              "      <td>625</td>\n",
              "      <td>80</td>\n",
              "      <td>100</td>\n",
              "      <td>123</td>\n",
              "      <td>122</td>\n",
              "      <td>120</td>\n",
              "      <td>80</td>\n",
              "      <td>281.0</td>\n",
              "    </tr>\n",
              "    <tr>\n",
              "      <th>4</th>\n",
              "      <td>Charmander</td>\n",
              "      <td>1</td>\n",
              "      <td>Normal</td>\n",
              "      <td>1</td>\n",
              "      <td>Fire</td>\n",
              "      <td>NaN</td>\n",
              "      <td>309</td>\n",
              "      <td>39</td>\n",
              "      <td>52</td>\n",
              "      <td>43</td>\n",
              "      <td>60</td>\n",
              "      <td>50</td>\n",
              "      <td>65</td>\n",
              "      <td>62.0</td>\n",
              "    </tr>\n",
              "  </tbody>\n",
              "</table>\n",
              "</div>"
            ],
            "text/plain": [
              "            name  generation  status  ...  sp_defense speed base_experience\n",
              "0      Bulbasaur           1  Normal  ...          65    45            64.0\n",
              "1        Ivysaur           1  Normal  ...          80    60           142.0\n",
              "2       Venusaur           1  Normal  ...         100    80           236.0\n",
              "3  Mega Venusaur           1  Normal  ...         120    80           281.0\n",
              "4     Charmander           1  Normal  ...          50    65            62.0\n",
              "\n",
              "[5 rows x 14 columns]"
            ]
          },
          "metadata": {
            "tags": []
          },
          "execution_count": 128
        }
      ]
    },
    {
      "cell_type": "code",
      "metadata": {
        "colab": {
          "base_uri": "https://localhost:8080/",
          "height": 317
        },
        "id": "JJajtSn8yvTU",
        "outputId": "e69abcd1-5e7f-40d4-b250-240ba3b802a5"
      },
      "source": [
        "#new_data description\n",
        "pokedex.describe()"
      ],
      "execution_count": null,
      "outputs": [
        {
          "output_type": "execute_result",
          "data": {
            "text/html": [
              "<div>\n",
              "<style scoped>\n",
              "    .dataframe tbody tr th:only-of-type {\n",
              "        vertical-align: middle;\n",
              "    }\n",
              "\n",
              "    .dataframe tbody tr th {\n",
              "        vertical-align: top;\n",
              "    }\n",
              "\n",
              "    .dataframe thead th {\n",
              "        text-align: right;\n",
              "    }\n",
              "</style>\n",
              "<table border=\"1\" class=\"dataframe\">\n",
              "  <thead>\n",
              "    <tr style=\"text-align: right;\">\n",
              "      <th></th>\n",
              "      <th>generation</th>\n",
              "      <th>type_number</th>\n",
              "      <th>total_points</th>\n",
              "      <th>hp</th>\n",
              "      <th>attack</th>\n",
              "      <th>defense</th>\n",
              "      <th>sp_attack</th>\n",
              "      <th>sp_defense</th>\n",
              "      <th>speed</th>\n",
              "      <th>base_experience</th>\n",
              "    </tr>\n",
              "  </thead>\n",
              "  <tbody>\n",
              "    <tr>\n",
              "      <th>count</th>\n",
              "      <td>1028.000000</td>\n",
              "      <td>1028.000000</td>\n",
              "      <td>1028.000000</td>\n",
              "      <td>1028.000000</td>\n",
              "      <td>1028.000000</td>\n",
              "      <td>1028.000000</td>\n",
              "      <td>1028.000000</td>\n",
              "      <td>1028.000000</td>\n",
              "      <td>1028.000000</td>\n",
              "      <td>924.000000</td>\n",
              "    </tr>\n",
              "    <tr>\n",
              "      <th>mean</th>\n",
              "      <td>4.034047</td>\n",
              "      <td>1.527237</td>\n",
              "      <td>437.571984</td>\n",
              "      <td>69.577821</td>\n",
              "      <td>80.119650</td>\n",
              "      <td>74.475681</td>\n",
              "      <td>72.732490</td>\n",
              "      <td>72.132296</td>\n",
              "      <td>68.534047</td>\n",
              "      <td>153.814935</td>\n",
              "    </tr>\n",
              "    <tr>\n",
              "      <th>std</th>\n",
              "      <td>2.234937</td>\n",
              "      <td>0.499501</td>\n",
              "      <td>121.664910</td>\n",
              "      <td>26.385849</td>\n",
              "      <td>32.372321</td>\n",
              "      <td>31.303309</td>\n",
              "      <td>32.677698</td>\n",
              "      <td>28.083684</td>\n",
              "      <td>29.802103</td>\n",
              "      <td>79.270628</td>\n",
              "    </tr>\n",
              "    <tr>\n",
              "      <th>min</th>\n",
              "      <td>1.000000</td>\n",
              "      <td>1.000000</td>\n",
              "      <td>175.000000</td>\n",
              "      <td>1.000000</td>\n",
              "      <td>5.000000</td>\n",
              "      <td>5.000000</td>\n",
              "      <td>10.000000</td>\n",
              "      <td>20.000000</td>\n",
              "      <td>5.000000</td>\n",
              "      <td>36.000000</td>\n",
              "    </tr>\n",
              "    <tr>\n",
              "      <th>25%</th>\n",
              "      <td>2.000000</td>\n",
              "      <td>1.000000</td>\n",
              "      <td>330.000000</td>\n",
              "      <td>50.000000</td>\n",
              "      <td>55.000000</td>\n",
              "      <td>50.000000</td>\n",
              "      <td>50.000000</td>\n",
              "      <td>50.000000</td>\n",
              "      <td>45.000000</td>\n",
              "      <td>67.000000</td>\n",
              "    </tr>\n",
              "    <tr>\n",
              "      <th>50%</th>\n",
              "      <td>4.000000</td>\n",
              "      <td>2.000000</td>\n",
              "      <td>455.000000</td>\n",
              "      <td>66.500000</td>\n",
              "      <td>76.000000</td>\n",
              "      <td>70.000000</td>\n",
              "      <td>65.000000</td>\n",
              "      <td>70.000000</td>\n",
              "      <td>65.000000</td>\n",
              "      <td>159.000000</td>\n",
              "    </tr>\n",
              "    <tr>\n",
              "      <th>75%</th>\n",
              "      <td>6.000000</td>\n",
              "      <td>2.000000</td>\n",
              "      <td>510.000000</td>\n",
              "      <td>80.000000</td>\n",
              "      <td>100.000000</td>\n",
              "      <td>90.000000</td>\n",
              "      <td>95.000000</td>\n",
              "      <td>90.000000</td>\n",
              "      <td>90.000000</td>\n",
              "      <td>201.500000</td>\n",
              "    </tr>\n",
              "    <tr>\n",
              "      <th>max</th>\n",
              "      <td>8.000000</td>\n",
              "      <td>2.000000</td>\n",
              "      <td>1125.000000</td>\n",
              "      <td>255.000000</td>\n",
              "      <td>190.000000</td>\n",
              "      <td>250.000000</td>\n",
              "      <td>194.000000</td>\n",
              "      <td>250.000000</td>\n",
              "      <td>180.000000</td>\n",
              "      <td>608.000000</td>\n",
              "    </tr>\n",
              "  </tbody>\n",
              "</table>\n",
              "</div>"
            ],
            "text/plain": [
              "        generation  type_number  ...        speed  base_experience\n",
              "count  1028.000000  1028.000000  ...  1028.000000       924.000000\n",
              "mean      4.034047     1.527237  ...    68.534047       153.814935\n",
              "std       2.234937     0.499501  ...    29.802103        79.270628\n",
              "min       1.000000     1.000000  ...     5.000000        36.000000\n",
              "25%       2.000000     1.000000  ...    45.000000        67.000000\n",
              "50%       4.000000     2.000000  ...    65.000000       159.000000\n",
              "75%       6.000000     2.000000  ...    90.000000       201.500000\n",
              "max       8.000000     2.000000  ...   180.000000       608.000000\n",
              "\n",
              "[8 rows x 10 columns]"
            ]
          },
          "metadata": {
            "tags": []
          },
          "execution_count": 129
        }
      ]
    },
    {
      "cell_type": "code",
      "metadata": {
        "colab": {
          "base_uri": "https://localhost:8080/"
        },
        "id": "OEMywnwKGJ4L",
        "outputId": "2d6f2291-897d-4a43-8bf6-78198c241b8c"
      },
      "source": [
        "# Return the dtypes in the DataFrame.\n",
        "pokedex.dtypes"
      ],
      "execution_count": null,
      "outputs": [
        {
          "output_type": "execute_result",
          "data": {
            "text/plain": [
              "name                object\n",
              "generation           int64\n",
              "status              object\n",
              "type_number          int64\n",
              "type_1              object\n",
              "type_2              object\n",
              "total_points         int64\n",
              "hp                   int64\n",
              "attack               int64\n",
              "defense              int64\n",
              "sp_attack            int64\n",
              "sp_defense           int64\n",
              "speed                int64\n",
              "base_experience    float64\n",
              "dtype: object"
            ]
          },
          "metadata": {
            "tags": []
          },
          "execution_count": 130
        }
      ]
    },
    {
      "cell_type": "markdown",
      "metadata": {
        "id": "Gg9wpMKf0wLc"
      },
      "source": [
        "**1.** **What are the different pokemons across generations?**\n",
        "\n",
        "We'll start by taking a look at the total number of Pokemon in each generation."
      ]
    },
    {
      "cell_type": "code",
      "metadata": {
        "colab": {
          "base_uri": "https://localhost:8080/",
          "height": 437
        },
        "id": "bi2XD7hmzza1",
        "outputId": "fe3c420e-6fc7-4685-f3ca-e031905d905d"
      },
      "source": [
        "sns.factorplot(\n",
        "    x='generation', \n",
        "    data=pokedex, \n",
        "    kind='count'\n",
        ").set_axis_labels('Generation', '# of Pokemon');"
      ],
      "execution_count": null,
      "outputs": [
        {
          "output_type": "stream",
          "text": [
            "/usr/local/lib/python3.7/dist-packages/seaborn/categorical.py:3714: UserWarning: The `factorplot` function has been renamed to `catplot`. The original name will be removed in a future release. Please update your code. Note that the default `kind` in `factorplot` (`'point'`) has changed `'strip'` in `catplot`.\n",
            "  warnings.warn(msg)\n"
          ],
          "name": "stderr"
        },
        {
          "output_type": "display_data",
          "data": {
            "image/png": "[encoded data removed]",
            "text/plain": [
              "<Figure size 360x360 with 1 Axes>"
            ]
          },
          "metadata": {
            "tags": []
          }
        }
      ]
    },
    {
      "cell_type": "markdown",
      "metadata": {
        "id": "vLQXcej5DnE-"
      },
      "source": [
        "There doesn't seem to be a trend across generations; however, even-numbered generations introduced fewer Pokemon as compared to the odd-numbered generations.\n",
        "\n",
        "Let's dig a bit deeper and examine the distribution of primary and secondary types of Pokemon across generations.\n",
        "\n",
        "2. **Using a Trellis chart, We find distribution of primary and secondary types of Pokemon across generations.**\n",
        "\n"
      ]
    },
    {
      "cell_type": "code",
      "metadata": {
        "id": "5uHeXH3dDUv3",
        "colab": {
          "base_uri": "https://localhost:8080/"
        },
        "outputId": "2ff81c1a-3531-40bf-a618-4e1305415a71"
      },
      "source": [
        "sns.factorplot(\n",
        "    x='generation',\n",
        "    data=pokedex,\n",
        "    col='type_1',\n",
        "    kind='count',\n",
        "    col_wrap=3\n",
        ").set_axis_labels('Generation', '# of Pokemon');\n"
      ],
      "execution_count": null,
      "outputs": [
        {
          "output_type": "stream",
          "text": [
            "/usr/local/lib/python3.7/dist-packages/seaborn/categorical.py:3714: UserWarning: The `factorplot` function has been renamed to `catplot`. The original name will be removed in a future release. Please update your code. Note that the default `kind` in `factorplot` (`'point'`) has changed `'strip'` in `catplot`.\n",
            "  warnings.warn(msg)\n"
          ],
          "name": "stderr"
        },
        {
          "output_type": "display_data",
          "data": {
            "image/png": "[encoded data removed]",
            "text/plain": [
              "<Figure size 1080x2160 with 18 Axes>"
            ]
          },
          "metadata": {
            "tags": []
          }
        }
      ]
    },
    {
      "cell_type": "code",
      "metadata": {
        "id": "cL2VMXYlFLnz",
        "colab": {
          "base_uri": "https://localhost:8080/"
        },
        "outputId": "fe2593e9-7964-4125-b8f6-f22ca6d2c40f"
      },
      "source": [
        "sns.factorplot(\n",
        "    x='generation',\n",
        "    data=pokedex,\n",
        "    col='type_2',\n",
        "    kind='count',\n",
        "    col_wrap=3\n",
        ").set_axis_labels('Generation', '# of Pokemon');\n"
      ],
      "execution_count": null,
      "outputs": [
        {
          "output_type": "stream",
          "text": [
            "/usr/local/lib/python3.7/dist-packages/seaborn/categorical.py:3714: UserWarning: The `factorplot` function has been renamed to `catplot`. The original name will be removed in a future release. Please update your code. Note that the default `kind` in `factorplot` (`'point'`) has changed `'strip'` in `catplot`.\n",
            "  warnings.warn(msg)\n"
          ],
          "name": "stderr"
        }
      ]
    },
    {
      "cell_type": "markdown",
      "metadata": {
        "id": "ozgY8_Ma_0U-"
      },
      "source": [
        "3. **Finding Pokemon Types**"
      ]
    },
    {
      "cell_type": "code",
      "metadata": {
        "id": "yWjctwp5_zG1"
      },
      "source": [
        "type_1= pokedex['type_1'].unique()\n",
        "type_2= pokedex['type_2'].unique()\n",
        "print('Type 1 count: {}'.format(len(type_1)))  #nunique()\n",
        "print('Type 2 count: {}'.format(len(type_2)))"
      ],
      "execution_count": null,
      "outputs": []
    },
    {
      "cell_type": "markdown",
      "metadata": {
        "id": "8nQYYxb5FkrG"
      },
      "source": [
        "There are a total of 18 primary types and 19 secondary types (again, the additional secondary type refers to Pokemon species without a secondary type).\n",
        "\n",
        "We will create custom color palettes to indicate the types easily.\n",
        "\n",
        "4. **Determining the most common primary and secondary type distributions.** "
      ]
    },
    {
      "cell_type": "code",
      "metadata": {
        "id": "w9cuDobMAX4S"
      },
      "source": [
        "sns.factorplot(\n",
        "    y='type_1',\n",
        "    data=pokedex,\n",
        "    kind='count',\n",
        "    order=pokedex['type_1'].value_counts().index,\n",
        "    aspect=1,\n",
        "    color= '#a123de'\n",
        ").set_axis_labels('# of Pokemon', 'Type 1')\n",
        "\n",
        "sns.factorplot(\n",
        "    y='type_2',\n",
        "    data=pokedex,\n",
        "    kind='count',\n",
        "    order=pokedex['type_2'].value_counts().index,\n",
        "    aspect=1,\n",
        "    color='#123edf'\n",
        ").set_axis_labels('# of Pokemon', 'Type 2');"
      ],
      "execution_count": null,
      "outputs": []
    },
    {
      "cell_type": "markdown",
      "metadata": {
        "id": "8dYPhNfpRxFX"
      },
      "source": [
        "5. **What are the most common combinations of primary and secondary type of pokemon?**\n",
        "\n",
        "For finding the combinations, we need Type 2 also. So, we will select those cells in Type 2 not equal to None and create a heatmap."
      ]
    },
    {
      "cell_type": "code",
      "metadata": {
        "id": "b1UDYl2kQOAv"
      },
      "source": [
        "most_common = pokedex[pokedex['type_2'] != 'NaN']\n",
        "dims = (9, 6) #A4 dimensions\n",
        "fig, ax = plt.subplots(figsize=dims)\n",
        "sns.heatmap(most_common.groupby(['type_1', 'type_2']).size().unstack(),linewidths=1,annot=True, cmap='viridis');"
      ],
      "execution_count": null,
      "outputs": []
    },
    {
      "cell_type": "markdown",
      "metadata": {
        "id": "F8nMGDa4SYrM"
      },
      "source": [
        "6. **Examining the Base Stat Analysis Correlation.**\n",
        "\n",
        "Using a Correlation Matrix, we will examine the correlation between the base stats of Pokemon."
      ]
    },
    {
      "cell_type": "code",
      "metadata": {
        "id": "H7N1aIKRLOg3"
      },
      "source": [
        "Corr = pokedex[['total_points' ,'hp', 'attack','defense','sp_attack','sp_defense','speed']]\n",
        "dims = (9, 6) #A4 dimensions\n",
        "fig, ax = plt.subplots(figsize=dims)\n",
        "CorrelationMap = sns.heatmap(Corr.corr(),annot = True, cmap='viridis')\n",
        "CorrelationMap.set(title = 'HeatMap to show Correlation between Base Stats')"
      ],
      "execution_count": null,
      "outputs": []
    },
    {
      "cell_type": "markdown",
      "metadata": {
        "id": "Y_ZjljUGSoBp"
      },
      "source": [
        "We can see that the correlation between attack and total_points is 0.73. So we will use 2D scatterplot also called as the lmplot to see the correlation between total_points and attack.\n",
        "\n",
        "6. **Correlation of Total_Points and Attack using a Scatterplot**"
      ]
    },
    {
      "cell_type": "code",
      "metadata": {
        "id": "SSe8J3mbPOBg"
      },
      "source": [
        "#Plot the graph\n",
        "sns.set()\n",
        "scatter = sns.lmplot(x='attack', y='total_points',data=pokedex,\n",
        "                   fit_reg = True, height = 8, aspect = 1)\n",
        "plt.title('Total_Points vs. Attack',fontsize = 25)\n",
        "plt.xlabel('Total_Points',fontsize = 18)\n",
        "plt.ylabel('Attack',fontsize = 18)"
      ],
      "execution_count": null,
      "outputs": []
    },
    {
      "cell_type": "markdown",
      "metadata": {
        "id": "6iWKnmm8WZOu"
      },
      "source": [
        "7. **Distributions Analysis on Attack and Defence.**\n",
        "\n",
        "For distributions, we use Histograms. Here, to compare it with 2 variables, we used stacked dual axis histograms with kde to see the skeweness."
      ]
    },
    {
      "cell_type": "code",
      "metadata": {
        "id": "KwMqo5IoOs8p"
      },
      "source": [
        "dims = (9,6)\n",
        "fig, ax = plt.subplots(figsize=dims)\n",
        "Dhist = sns.histplot(pokedex['defense'],color='b',kde=True)\n",
        "Ahist = sns.histplot(pokedex['attack'],color = 'r',kde=True)\n",
        "Ahist.set(title = 'Distribution of Defense and Attack', xlabel = 'Defense:y , Attack:b')"
      ],
      "execution_count": null,
      "outputs": []
    },
    {
      "cell_type": "markdown",
      "metadata": {
        "id": "VBjAJ1p3Y4Tj"
      },
      "source": [
        "Conclusion: Here, the distribution of both attributes are also similar. Also a positive skew is seen. We can see that there is a significant tail end to the Defense stat as opposed to the Attack stat, portraying that the Defense stat has more Pokemon with high Defense stats than Attack. You could argue that the Defense stat has a higher variance than the Attack stat."
      ]
    },
    {
      "cell_type": "markdown",
      "metadata": {
        "id": "1LZcW52MaT_V"
      },
      "source": [
        "8. **What the top 10 Strongest pokemons?**"
      ]
    },
    {
      "cell_type": "code",
      "metadata": {
        "id": "9bHfXCfkacbF"
      },
      "source": [
        "strong_pokemon = pokedex.sort_values('total_points', ascending=False).head(10)\n",
        "strong_pokemon\n"
      ],
      "execution_count": null,
      "outputs": []
    },
    {
      "cell_type": "code",
      "metadata": {
        "id": "DtPgWAMZsTUa"
      },
      "source": [
        "g=sns.barplot(x = 'total_points', y = 'name', data = strong_pokemon,\n",
        "             color = '#123456')\n",
        "sns.set_color_codes('muted')\n",
        "\n"
      ],
      "execution_count": null,
      "outputs": []
    },
    {
      "cell_type": "markdown",
      "metadata": {
        "id": "AHryxqAQsEiA"
      },
      "source": [
        "**What the top 10 Weakest pokemons?**"
      ]
    },
    {
      "cell_type": "code",
      "metadata": {
        "id": "rtTu0h2kqixb"
      },
      "source": [
        "weak_pokemon = pokedex.sort_values('total_points').tail(10)\n",
        "weak_pokemon"
      ],
      "execution_count": null,
      "outputs": []
    },
    {
      "cell_type": "code",
      "metadata": {
        "id": "usCakxlgsLZe"
      },
      "source": [
        "sns.barplot(x = 'total_points', y = 'name', data = weak_pokemon,\n",
        "             color = '#123456')\n",
        "sns.set_color_codes('muted')"
      ],
      "execution_count": null,
      "outputs": []
    },
    {
      "cell_type": "markdown",
      "metadata": {
        "id": "QlCGXNH-bAKF"
      },
      "source": [
        "9. **Find the legendary and mythical count from the top pokemon**"
      ]
    },
    {
      "cell_type": "code",
      "metadata": {
        "id": "ATiMsME1agAF"
      },
      "source": [
        "sns.countplot(x='status', data=top_pokemon);"
      ],
      "execution_count": null,
      "outputs": []
    },
    {
      "cell_type": "markdown",
      "metadata": {
        "id": "go6cwV6odEhC"
      },
      "source": [
        "10. **Finding the Strongest Pokemon with Primary and Secondary types.**"
      ]
    },
    {
      "cell_type": "code",
      "metadata": {
        "id": "tVBGR1KXdFEX"
      },
      "source": [
        "dims = (9, 6) #A4 dimensions\n",
        "fig, ax = plt.subplots(figsize=dims)\n",
        "medians = pokedex.groupby(['type_1', 'type_2']).median().unstack().loc[:,'total_points']\n",
        "sns.heatmap(medians, linewidths=1, cmap='viridis');"
      ],
      "execution_count": null,
      "outputs": []
    },
    {
      "cell_type": "markdown",
      "metadata": {
        "id": "iTIXLdAmgDma"
      },
      "source": [
        "We come to a conclusion that Dragon pokemons are really good. They are strong."
      ]
    },
    {
      "cell_type": "markdown",
      "metadata": {
        "id": "XJJU8OuXEpKT"
      },
      "source": [
        "Validation of the Algorithm. We will use **Multiple Linear Regression.** \n",
        "\n",
        "**Preparing the Data**\n",
        "\n",
        "\n",
        "We want to predict the total points depending upon the attack. Therefore our attribute set will consist of the \"Total_Points\" column, and the label will be the \"Attack\" column."
      ]
    },
    {
      "cell_type": "code",
      "metadata": {
        "id": "ItdJCyVa5Vu5"
      },
      "source": [
        "X = pokedex[['hp','attack','defense','sp_attack', 'sp_defense', 'speed']]\n",
        "\n",
        "y = pokedex['total_points']"
      ],
      "execution_count": null,
      "outputs": []
    },
    {
      "cell_type": "code",
      "metadata": {
        "id": "QB8Uq-j28Paw"
      },
      "source": [
        "X"
      ],
      "execution_count": null,
      "outputs": []
    },
    {
      "cell_type": "code",
      "metadata": {
        "id": "3fhFI9Ru9CYH"
      },
      "source": [
        "y"
      ],
      "execution_count": null,
      "outputs": []
    },
    {
      "cell_type": "code",
      "metadata": {
        "id": "2fK70qVD9C6T"
      },
      "source": [
        "#import packages for training\n",
        "from sklearn.model_selection import train_test_split\n",
        "X_train, X_test, y_train, y_test = train_test_split(X, y, random_state=0)"
      ],
      "execution_count": null,
      "outputs": []
    },
    {
      "cell_type": "markdown",
      "metadata": {
        "id": "HJWmsa02kGZ1"
      },
      "source": [
        "**Training the Algorithm**\n",
        "\n",
        "We have split our data into training and testing sets, and now is finally the time to train our algorithm"
      ]
    },
    {
      "cell_type": "code",
      "metadata": {
        "id": "mryANj4Y9HFS"
      },
      "source": [
        "from sklearn.linear_model import LinearRegression\n",
        "regressor = LinearRegression().fit(X_train, y_train)"
      ],
      "execution_count": null,
      "outputs": []
    },
    {
      "cell_type": "code",
      "metadata": {
        "id": "hQ9ytqXo9JTk"
      },
      "source": [
        "print(regressor.intercept_)\n",
        "print(regressor.coef_)"
      ],
      "execution_count": null,
      "outputs": []
    },
    {
      "cell_type": "code",
      "metadata": {
        "id": "sRkM4OR3om6b"
      },
      "source": [
        "coeff_df = pd.DataFrame(regressor.coef_, X.columns, columns=['Coefficient'])\n",
        "coeff_df"
      ],
      "execution_count": null,
      "outputs": []
    },
    {
      "cell_type": "markdown",
      "metadata": {
        "id": "QR0_M7JdkOih"
      },
      "source": [
        "This means that for every one unit of change in Attack, the change in the score is about 9.91%. Or in simpler words, if a student studies one hour more than they previously studied for an exam, they can expect to achieve an increase of 9.91% in the score achieved by the student previously.\n",
        "\n",
        "**Making Predictions**"
      ]
    },
    {
      "cell_type": "code",
      "metadata": {
        "id": "B1ekbupV_nXa"
      },
      "source": [
        "y_pred = regressor.predict(X_test)"
      ],
      "execution_count": null,
      "outputs": []
    },
    {
      "cell_type": "markdown",
      "metadata": {
        "id": "IywNptYglnui"
      },
      "source": [
        "The y_pred is a numpy array that contains all the predicted values for the input values in the X_test series.\n",
        "\n",
        "To compare the actual output values for X_test with the predicted values, execute the following manner."
      ]
    },
    {
      "cell_type": "code",
      "metadata": {
        "id": "jnSGpuCzAYjG"
      },
      "source": [
        "df = pd.DataFrame.from_records({'Actual':y_test,'Predicted':y_pred })\n",
        "print(df)"
      ],
      "execution_count": null,
      "outputs": []
    },
    {
      "cell_type": "markdown",
      "metadata": {
        "id": "jV1RXe61lsC6"
      },
      "source": [
        "Though our model is not very precise, the predicted percentages are close to the actual ones.\n",
        "\n",
        "**Evaluating the Algorithm**\n",
        "\n",
        "The final step is to evaluate the performance of algorithm.\n",
        "\n",
        "This step is particularly important to compare how well different algorithms perform on a particular dataset.\n",
        "\n",
        "For regression algorithms, three evaluation metrics are\n",
        "\n",
        "1. Mean Absolute Error\n",
        "2. Mean Squared Error\n",
        "3. Root Mean Squared Error\n"
      ]
    },
    {
      "cell_type": "code",
      "metadata": {
        "id": "sFRvwWGuAa8a"
      },
      "source": [
        "from sklearn import metrics\n",
        "import math\n",
        "print('Mean Absolute Error:', metrics.mean_absolute_error(y_test, y_pred))\n",
        "print('Mean Squared Error:', metrics.mean_squared_error(y_test, y_pred))\n",
        "print('Root Mean Squared Error:', math.sqrt(metrics.mean_squared_error(y_test, y_pred)))"
      ],
      "execution_count": null,
      "outputs": []
    },
    {
      "cell_type": "markdown",
      "metadata": {
        "id": "ZPQ6kjwpqO4z"
      },
      "source": [
        "Our Algorithm did a good job."
      ]
    }
  ]
}